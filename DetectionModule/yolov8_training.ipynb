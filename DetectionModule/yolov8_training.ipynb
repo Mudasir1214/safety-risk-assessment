{
 "cells": [
  {
   "cell_type": "code",
   "execution_count": 1,
   "metadata": {
    "executionInfo": {
     "elapsed": 12,
     "status": "ok",
     "timestamp": 1721315177064,
     "user": {
      "displayName": "Gan Project",
      "userId": "10714615017816106068"
     },
     "user_tz": -300
    },
    "id": "VD3DqEH1i7e2"
   },
   "outputs": [],
   "source": [
    "import os\n",
    "import cv2\n",
    "import numpy as np\n",
    "from glob import glob\n",
    "from scipy.io import loadmat\n",
    "import matplotlib.pyplot as plt"
   ]
  },
  {
   "cell_type": "code",
   "execution_count": 2,
   "metadata": {
    "colab": {
     "base_uri": "https://localhost:8080/"
    },
    "executionInfo": {
     "elapsed": 91334,
     "status": "ok",
     "timestamp": 1721213124406,
     "user": {
      "displayName": "Gan Project",
      "userId": "10714615017816106068"
     },
     "user_tz": -300
    },
    "id": "tYKfvK-MiX2W",
    "outputId": "8e197753-11a9-4048-f3f9-6b3b864f13cd"
   },
   "outputs": [
    {
     "name": "stdout",
     "output_type": "stream",
     "text": [
      "Requirement already satisfied: ultralytics==8.2.75 in c:\\users\\mudasir hussain\\anaconda3\\lib\\site-packages (8.2.75)\n",
      "Requirement already satisfied: numpy<2.0.0,>=1.23.0 in c:\\users\\mudasir hussain\\anaconda3\\lib\\site-packages (from ultralytics==8.2.75) (1.24.4)\n",
      "Requirement already satisfied: matplotlib>=3.3.0 in c:\\users\\mudasir hussain\\anaconda3\\lib\\site-packages (from ultralytics==8.2.75) (3.3.4)\n",
      "Requirement already satisfied: opencv-python>=4.6.0 in c:\\users\\mudasir hussain\\anaconda3\\lib\\site-packages (from ultralytics==8.2.75) (4.9.0.80)\n",
      "Requirement already satisfied: pillow>=7.1.2 in c:\\users\\mudasir hussain\\anaconda3\\lib\\site-packages (from ultralytics==8.2.75) (8.2.0)\n",
      "Requirement already satisfied: pyyaml>=5.3.1 in c:\\users\\mudasir hussain\\anaconda3\\lib\\site-packages (from ultralytics==8.2.75) (5.4.1)\n",
      "Requirement already satisfied: requests>=2.23.0 in c:\\users\\mudasir hussain\\anaconda3\\lib\\site-packages (from ultralytics==8.2.75) (2.25.1)\n",
      "Requirement already satisfied: scipy>=1.4.1 in c:\\users\\mudasir hussain\\anaconda3\\lib\\site-packages (from ultralytics==8.2.75) (1.10.1)\n",
      "Requirement already satisfied: torch>=1.8.0 in c:\\users\\mudasir hussain\\anaconda3\\lib\\site-packages (from ultralytics==8.2.75) (2.3.0)\n",
      "Requirement already satisfied: torchvision>=0.9.0 in c:\\users\\mudasir hussain\\anaconda3\\lib\\site-packages (from ultralytics==8.2.75) (0.18.0)\n",
      "Requirement already satisfied: tqdm>=4.64.0 in c:\\users\\mudasir hussain\\anaconda3\\lib\\site-packages (from ultralytics==8.2.75) (4.66.4)\n",
      "Requirement already satisfied: psutil in c:\\users\\mudasir hussain\\anaconda3\\lib\\site-packages (from ultralytics==8.2.75) (5.8.0)\n",
      "Requirement already satisfied: py-cpuinfo in c:\\users\\mudasir hussain\\anaconda3\\lib\\site-packages (from ultralytics==8.2.75) (9.0.0)\n",
      "Requirement already satisfied: pandas>=1.1.4 in c:\\users\\mudasir hussain\\anaconda3\\lib\\site-packages (from ultralytics==8.2.75) (1.2.4)\n",
      "Requirement already satisfied: seaborn>=0.11.0 in c:\\users\\mudasir hussain\\anaconda3\\lib\\site-packages (from ultralytics==8.2.75) (0.11.1)\n",
      "Requirement already satisfied: ultralytics-thop>=2.0.0 in c:\\users\\mudasir hussain\\anaconda3\\lib\\site-packages (from ultralytics==8.2.75) (2.0.0)\n",
      "Requirement already satisfied: cycler>=0.10 in c:\\users\\mudasir hussain\\anaconda3\\lib\\site-packages (from matplotlib>=3.3.0->ultralytics==8.2.75) (0.10.0)\n",
      "Requirement already satisfied: kiwisolver>=1.0.1 in c:\\users\\mudasir hussain\\anaconda3\\lib\\site-packages (from matplotlib>=3.3.0->ultralytics==8.2.75) (1.3.1)\n",
      "Requirement already satisfied: pyparsing!=2.0.4,!=2.1.2,!=2.1.6,>=2.0.3 in c:\\users\\mudasir hussain\\anaconda3\\lib\\site-packages (from matplotlib>=3.3.0->ultralytics==8.2.75) (2.4.7)\n",
      "Requirement already satisfied: python-dateutil>=2.1 in c:\\users\\mudasir hussain\\anaconda3\\lib\\site-packages (from matplotlib>=3.3.0->ultralytics==8.2.75) (2.8.1)\n",
      "Requirement already satisfied: pytz>=2017.3 in c:\\users\\mudasir hussain\\anaconda3\\lib\\site-packages (from pandas>=1.1.4->ultralytics==8.2.75) (2021.1)\n",
      "Requirement already satisfied: chardet<5,>=3.0.2 in c:\\users\\mudasir hussain\\anaconda3\\lib\\site-packages (from requests>=2.23.0->ultralytics==8.2.75) (4.0.0)\n",
      "Requirement already satisfied: idna<3,>=2.5 in c:\\users\\mudasir hussain\\anaconda3\\lib\\site-packages (from requests>=2.23.0->ultralytics==8.2.75) (2.10)\n",
      "Requirement already satisfied: urllib3<1.27,>=1.21.1 in c:\\users\\mudasir hussain\\anaconda3\\lib\\site-packages (from requests>=2.23.0->ultralytics==8.2.75) (1.26.19)\n",
      "Requirement already satisfied: certifi>=2017.4.17 in c:\\users\\mudasir hussain\\anaconda3\\lib\\site-packages (from requests>=2.23.0->ultralytics==8.2.75) (2020.12.5)\n",
      "Requirement already satisfied: filelock in c:\\users\\mudasir hussain\\anaconda3\\lib\\site-packages (from torch>=1.8.0->ultralytics==8.2.75) (3.15.4)\n",
      "Requirement already satisfied: typing-extensions>=4.8.0 in c:\\users\\mudasir hussain\\anaconda3\\lib\\site-packages (from torch>=1.8.0->ultralytics==8.2.75) (4.11.0)\n",
      "Requirement already satisfied: sympy in c:\\users\\mudasir hussain\\anaconda3\\lib\\site-packages (from torch>=1.8.0->ultralytics==8.2.75) (1.8)\n",
      "Requirement already satisfied: networkx in c:\\users\\mudasir hussain\\anaconda3\\lib\\site-packages (from torch>=1.8.0->ultralytics==8.2.75) (2.5)\n",
      "Requirement already satisfied: jinja2 in c:\\users\\mudasir hussain\\anaconda3\\lib\\site-packages (from torch>=1.8.0->ultralytics==8.2.75) (2.11.3)\n",
      "Requirement already satisfied: fsspec in c:\\users\\mudasir hussain\\anaconda3\\lib\\site-packages (from torch>=1.8.0->ultralytics==8.2.75) (0.9.0)\n",
      "Requirement already satisfied: mkl<=2021.4.0,>=2021.1.1 in c:\\users\\mudasir hussain\\anaconda3\\lib\\site-packages (from torch>=1.8.0->ultralytics==8.2.75) (2021.4.0)\n",
      "Requirement already satisfied: colorama in c:\\users\\mudasir hussain\\anaconda3\\lib\\site-packages (from tqdm>=4.64.0->ultralytics==8.2.75) (0.4.4)\n",
      "Requirement already satisfied: six in c:\\users\\mudasir hussain\\anaconda3\\lib\\site-packages (from cycler>=0.10->matplotlib>=3.3.0->ultralytics==8.2.75) (1.15.0)\n",
      "Requirement already satisfied: intel-openmp==2021.* in c:\\users\\mudasir hussain\\anaconda3\\lib\\site-packages (from mkl<=2021.4.0,>=2021.1.1->torch>=1.8.0->ultralytics==8.2.75) (2021.4.0)\n",
      "Requirement already satisfied: tbb==2021.* in c:\\users\\mudasir hussain\\anaconda3\\lib\\site-packages (from mkl<=2021.4.0,>=2021.1.1->torch>=1.8.0->ultralytics==8.2.75) (2021.12.0)\n",
      "Requirement already satisfied: MarkupSafe>=0.23 in c:\\users\\mudasir hussain\\anaconda3\\lib\\site-packages (from jinja2->torch>=1.8.0->ultralytics==8.2.75) (1.1.1)\n",
      "Requirement already satisfied: decorator>=4.3.0 in c:\\users\\mudasir hussain\\anaconda3\\lib\\site-packages (from networkx->torch>=1.8.0->ultralytics==8.2.75) (5.0.6)\n",
      "Requirement already satisfied: mpmath>=0.19 in c:\\users\\mudasir hussain\\anaconda3\\lib\\site-packages (from sympy->torch>=1.8.0->ultralytics==8.2.75) (1.2.1)\n"
     ]
    }
   ],
   "source": [
    "# !pip install --upgrade pip\n",
    "!pip install -U ultralytics==8.2.75\n"
   ]
  },
  {
   "cell_type": "code",
   "execution_count": 3,
   "metadata": {
    "colab": {
     "base_uri": "https://localhost:8080/"
    },
    "executionInfo": {
     "elapsed": 4834,
     "status": "ok",
     "timestamp": 1721213129211,
     "user": {
      "displayName": "Gan Project",
      "userId": "10714615017816106068"
     },
     "user_tz": -300
    },
    "id": "HSN7Kc9E9raV",
    "outputId": "b74fa547-fb6f-48ea-e33d-5c18afa25df5"
   },
   "outputs": [
    {
     "name": "stdout",
     "output_type": "stream",
     "text": [
      "Ultralytics YOLOv8.2.75  Python-3.8.8 torch-2.3.0+cpu CPU (Intel Core(TM) i9-10900 2.80GHz)\n",
      "Setup complete  (20 CPUs, 31.7 GB RAM, 310.2/1862.9 GB disk)\n"
     ]
    }
   ],
   "source": [
    "from ultralytics import YOLO\n",
    "from IPython.display import display, Image\n",
    "import ultralytics\n",
    "ultralytics.checks()"
   ]
  },
  {
   "cell_type": "code",
   "execution_count": 4,
   "metadata": {
    "colab": {
     "base_uri": "https://localhost:8080/"
    },
    "executionInfo": {
     "elapsed": 15645,
     "status": "ok",
     "timestamp": 1721213144852,
     "user": {
      "displayName": "Gan Project",
      "userId": "10714615017816106068"
     },
     "user_tz": -300
    },
    "id": "m2_qCGRM5SeZ",
    "outputId": "f132d63c-e1e9-4ab5-bfd1-6ba6f73bb7b3"
   },
   "outputs": [
    {
     "name": "stderr",
     "output_type": "stream",
     "text": [
      "'apt-get' is not recognized as an internal or external command,\n",
      "operable program or batch file.\n",
      "'apt-get' is not recognized as an internal or external command,\n",
      "operable program or batch file.\n"
     ]
    }
   ],
   "source": [
    "!apt-get update\n",
    "!apt-get install libgl1-mesa-glx -y"
   ]
  },
  {
   "cell_type": "code",
   "execution_count": 5,
   "metadata": {
    "executionInfo": {
     "elapsed": 42,
     "status": "ok",
     "timestamp": 1721213144852,
     "user": {
      "displayName": "Gan Project",
      "userId": "10714615017816106068"
     },
     "user_tz": -300
    },
    "id": "J8aft3nMQ4fD"
   },
   "outputs": [],
   "source": [
    "# import os\n",
    "# import shutil\n",
    "# import random\n",
    "# from pathlib import Path\n",
    "\n",
    "# images_dir = Path('crane_detection_dataset/images')\n",
    "# labels_dir = Path('crane_detection_dataset/labels')\n",
    "# train_images_dir = Path('crane_detection_dataset/train/images')\n",
    "# train_labels_dir = Path('crane_detection_dataset/train/labels')\n",
    "# val_images_dir = Path('crane_detection_dataset/val/images')\n",
    "# val_labels_dir = Path('crane_detection_dataset/val/labels')\n",
    "\n",
    "# train_images_dir.mkdir(parents=True, exist_ok=True)\n",
    "# train_labels_dir.mkdir(parents=True, exist_ok=True)\n",
    "# val_images_dir.mkdir(parents=True, exist_ok=True)\n",
    "# val_labels_dir.mkdir(parents=True, exist_ok=True)\n",
    "\n",
    "# image_extensions = ['*.jpg', '*.png']\n",
    "# image_files = []\n",
    "# for ext in image_extensions:\n",
    "#     image_files.extend(images_dir.glob(ext))\n",
    "\n",
    "\n",
    "# random.shuffle(image_files)\n",
    "\n",
    "\n",
    "# split_index = int(0.8 * len(image_files))\n",
    "# train_files = image_files[:split_index]\n",
    "# val_files = image_files[split_index:]\n",
    "\n",
    "# def copy_files(file_list, src_dir, dest_dir):\n",
    "#     for file_path in file_list:\n",
    "#         shutil.copy(file_path, dest_dir)\n",
    "#         label_file = file_path.stem + '.txt'\n",
    "#         shutil.copy(src_dir / label_file, dest_dir.parent / 'labels' / label_file)\n",
    "\n",
    "\n",
    "# copy_files(train_files, labels_dir, train_images_dir)\n",
    "\n",
    "\n",
    "# copy_files(val_files, labels_dir, val_images_dir)\n",
    "\n",
    "# print(f\"Training files: {len(train_files)}, Validation files: {len(val_files)}\")\n"
   ]
  },
  {
   "cell_type": "code",
   "execution_count": 30,
   "metadata": {
    "colab": {
     "base_uri": "https://localhost:8080/"
    },
    "executionInfo": {
     "elapsed": 602,
     "status": "ok",
     "timestamp": 1721213145414,
     "user": {
      "displayName": "Gan Project",
      "userId": "10714615017816106068"
     },
     "user_tz": -300
    },
    "id": "BICGyS855Sea",
    "outputId": "e64186de-6dbb-44b5-9e3d-ef36a374020b"
   },
   "outputs": [
    {
     "name": "stdout",
     "output_type": "stream",
     "text": [
      "Overwriting data.yaml\n"
     ]
    }
   ],
   "source": [
    "%%writefile data.yaml\n",
    "# path: \"crane_detection_dataset\"\n",
    "train: \"datasets/crane_detection_dataset/train\"\n",
    "val: \"datasets/crane_detection_dataset/val\"\n",
    "\n",
    "nc: 2\n",
    "names: ['mobile crane', 'tower crane']\n"
   ]
  },
  {
   "cell_type": "code",
   "execution_count": 17,
   "metadata": {},
   "outputs": [
    {
     "name": "stdout",
     "output_type": "stream",
     "text": [
      " Volume in drive E is DATA\n",
      " Volume Serial Number is B867-DA30\n",
      "\n",
      " Directory of E:\\[1]-Cascade learning-Unsafe behavior of cranes\\Final data from UBDA-GVM\\Detection\n",
      "\n",
      "10/08/2024  12:59 am    <DIR>          .\n",
      "09/08/2024  07:54 pm    <DIR>          ..\n",
      "09/08/2024  07:21 pm    <DIR>          .ipynb_checkpoints\n",
      "02/08/2024  03:01 pm    <DIR>          crane_detection_dataset\n",
      "10/08/2024  01:01 am               160 data.yaml\n",
      "10/08/2024  12:41 am    <DIR>          datasets\n",
      "02/08/2024  02:58 pm               203 detr_model.yaml\n",
      "07/08/2024  05:09 pm           227,281 Detr_training.ipynb\n",
      "07/08/2024  01:26 pm            95,961 detr-results.ipynb\n",
      "02/08/2024  02:58 pm        66,509,128 rtdetr-l.pt\n",
      "02/08/2024  03:02 pm    <DIR>          runs\n",
      "07/08/2024  05:09 pm           227,281 yolov10_training.ipynb\n",
      "10/08/2024  12:59 am            25,513 yolov8_training.ipynb\n",
      "09/08/2024  07:22 pm        87,792,836 yolov8l.pt\n",
      "02/08/2024  02:58 pm         6,534,387 yolov8n.pt\n",
      "07/08/2024  05:09 pm           227,281 yolov9_training.ipynb\n",
      "              10 File(s)    161,640,031 bytes\n",
      "               6 Dir(s)  1,667,165,396,992 bytes free\n"
     ]
    }
   ],
   "source": [
    "ls"
   ]
  },
  {
   "cell_type": "code",
   "execution_count": 18,
   "metadata": {},
   "outputs": [
    {
     "data": {
      "text/plain": [
       "'E:\\\\[1]-Cascade learning-Unsafe behavior of cranes\\\\Final data from UBDA-GVM\\\\Detection'"
      ]
     },
     "execution_count": 18,
     "metadata": {},
     "output_type": "execute_result"
    }
   ],
   "source": [
    "pwd"
   ]
  },
  {
   "cell_type": "code",
   "execution_count": 29,
   "metadata": {},
   "outputs": [
    {
     "name": "stdout",
     "output_type": "stream",
     "text": [
      "Ultralytics YOLOv8.2.75  Python-3.8.8 torch-2.3.0+cpu CPU (Intel Core(TM) i9-10900 2.80GHz)\n",
      "\u001b[34m\u001b[1mengine\\trainer: \u001b[0mtask=detect, mode=train, model=yolov8l.pt, data=data.yaml, epochs=100, time=None, patience=100, batch=16, imgsz=640, save=True, save_period=-1, cache=False, device=cpu, workers=8, project=None, name=train9, exist_ok=False, pretrained=True, optimizer=auto, verbose=True, seed=0, deterministic=True, single_cls=False, rect=False, cos_lr=False, close_mosaic=10, resume=False, amp=True, fraction=1.0, profile=False, freeze=None, multi_scale=False, overlap_mask=True, mask_ratio=4, dropout=0.0, val=True, split=val, save_json=False, save_hybrid=False, conf=None, iou=0.7, max_det=300, half=False, dnn=False, plots=True, source=None, vid_stride=1, stream_buffer=False, visualize=False, augment=False, agnostic_nms=False, classes=None, retina_masks=False, embed=None, show=False, save_frames=False, save_txt=False, save_conf=False, save_crop=False, show_labels=True, show_conf=True, show_boxes=True, line_width=None, format=torchscript, keras=False, optimize=False, int8=False, dynamic=False, simplify=False, opset=None, workspace=4, nms=False, lr0=0.01, lrf=0.01, momentum=0.937, weight_decay=0.0005, warmup_epochs=3.0, warmup_momentum=0.8, warmup_bias_lr=0.1, box=7.5, cls=0.5, dfl=1.5, pose=12.0, kobj=1.0, label_smoothing=0.0, nbs=64, hsv_h=0.015, hsv_s=0.7, hsv_v=0.4, degrees=0.0, translate=0.1, scale=0.5, shear=0.0, perspective=0.0, flipud=0.0, fliplr=0.5, bgr=0.0, mosaic=1.0, mixup=0.0, copy_paste=0.0, auto_augment=randaugment, erasing=0.4, crop_fraction=1.0, cfg=None, tracker=botsort.yaml, save_dir=runs\\detect\\train9\n",
      "Overriding model.yaml nc=80 with nc=2\n",
      "\n",
      "                   from  n    params  module                                       arguments                     \n",
      "  0                  -1  1      1856  ultralytics.nn.modules.conv.Conv             [3, 64, 3, 2]                 \n",
      "  1                  -1  1     73984  ultralytics.nn.modules.conv.Conv             [64, 128, 3, 2]               \n",
      "  2                  -1  3    279808  ultralytics.nn.modules.block.C2f             [128, 128, 3, True]           \n",
      "  3                  -1  1    295424  ultralytics.nn.modules.conv.Conv             [128, 256, 3, 2]              \n",
      "  4                  -1  6   2101248  ultralytics.nn.modules.block.C2f             [256, 256, 6, True]           \n",
      "  5                  -1  1   1180672  ultralytics.nn.modules.conv.Conv             [256, 512, 3, 2]              \n",
      "  6                  -1  6   8396800  ultralytics.nn.modules.block.C2f             [512, 512, 6, True]           \n",
      "  7                  -1  1   2360320  ultralytics.nn.modules.conv.Conv             [512, 512, 3, 2]              \n",
      "  8                  -1  3   4461568  ultralytics.nn.modules.block.C2f             [512, 512, 3, True]           \n",
      "  9                  -1  1    656896  ultralytics.nn.modules.block.SPPF            [512, 512, 5]                 \n",
      " 10                  -1  1         0  torch.nn.modules.upsampling.Upsample         [None, 2, 'nearest']          \n",
      " 11             [-1, 6]  1         0  ultralytics.nn.modules.conv.Concat           [1]                           \n",
      " 12                  -1  3   4723712  ultralytics.nn.modules.block.C2f             [1024, 512, 3]                \n",
      " 13                  -1  1         0  torch.nn.modules.upsampling.Upsample         [None, 2, 'nearest']          \n",
      " 14             [-1, 4]  1         0  ultralytics.nn.modules.conv.Concat           [1]                           \n",
      " 15                  -1  3   1247744  ultralytics.nn.modules.block.C2f             [768, 256, 3]                 \n",
      " 16                  -1  1    590336  ultralytics.nn.modules.conv.Conv             [256, 256, 3, 2]              \n",
      " 17            [-1, 12]  1         0  ultralytics.nn.modules.conv.Concat           [1]                           \n",
      " 18                  -1  3   4592640  ultralytics.nn.modules.block.C2f             [768, 512, 3]                 \n",
      " 19                  -1  1   2360320  ultralytics.nn.modules.conv.Conv             [512, 512, 3, 2]              \n",
      " 20             [-1, 9]  1         0  ultralytics.nn.modules.conv.Concat           [1]                           \n",
      " 21                  -1  3   4723712  ultralytics.nn.modules.block.C2f             [1024, 512, 3]                \n",
      " 22        [15, 18, 21]  1   5584342  ultralytics.nn.modules.head.Detect           [2, [256, 512, 512]]          \n",
      "Model summary: 365 layers, 43,631,382 parameters, 43,631,366 gradients, 165.4 GFLOPs\n",
      "\n",
      "Transferred 589/595 items from pretrained weights\n",
      "\u001b[34m\u001b[1mTensorBoard: \u001b[0mStart with 'tensorboard --logdir runs\\detect\\train9', view at http://localhost:6006/\n",
      "Freezing layer 'model.22.dfl.conv.weight'\n"
     ]
    },
    {
     "ename": "FileNotFoundError",
     "evalue": "\u001b[34m\u001b[1mtrain: \u001b[0mError loading data from E:\\[1]-Cascade learning-Unsafe behavior of cranes\\Final data from UBDA-GVM\\Detection\\datasets\\crane_detection_dataset\\train\nSee https://docs.ultralytics.com/datasets for dataset formatting guidance.",
     "output_type": "error",
     "traceback": [
      "\u001b[1;31m---------------------------------------------------------------------------\u001b[0m",
      "\u001b[1;31mAssertionError\u001b[0m                            Traceback (most recent call last)",
      "\u001b[1;32m~\\anaconda3\\lib\\site-packages\\ultralytics\\data\\base.py\u001b[0m in \u001b[0;36mget_img_files\u001b[1;34m(self, img_path)\u001b[0m\n\u001b[0;32m    117\u001b[0m             \u001b[1;31m# self.img_files = sorted([x for x in f if x.suffix[1:].lower() in IMG_FORMATS])  # pathlib\u001b[0m\u001b[1;33m\u001b[0m\u001b[1;33m\u001b[0m\u001b[1;33m\u001b[0m\u001b[0m\n\u001b[1;32m--> 118\u001b[1;33m             \u001b[1;32massert\u001b[0m \u001b[0mim_files\u001b[0m\u001b[1;33m,\u001b[0m \u001b[1;34mf\"{self.prefix}No images found in {img_path}. {FORMATS_HELP_MSG}\"\u001b[0m\u001b[1;33m\u001b[0m\u001b[1;33m\u001b[0m\u001b[0m\n\u001b[0m\u001b[0;32m    119\u001b[0m         \u001b[1;32mexcept\u001b[0m \u001b[0mException\u001b[0m \u001b[1;32mas\u001b[0m \u001b[0me\u001b[0m\u001b[1;33m:\u001b[0m\u001b[1;33m\u001b[0m\u001b[1;33m\u001b[0m\u001b[0m\n",
      "\u001b[1;31mAssertionError\u001b[0m: \u001b[34m\u001b[1mtrain: \u001b[0mNo images found in E:\\[1]-Cascade learning-Unsafe behavior of cranes\\Final data from UBDA-GVM\\Detection\\datasets\\crane_detection_dataset\\train. Supported formats are:\nimages: {'jpg', 'jpeg', 'tif', 'pfm', 'webp', 'bmp', 'mpo', 'png', 'tiff', 'dng'}\nvideos: {'mp4', 'wmv', 'asf', 'avi', 'gif', 'webm', 'mkv', 'mpeg', 'mov', 'ts', 'm4v', 'mpg'}",
      "\nThe above exception was the direct cause of the following exception:\n",
      "\u001b[1;31mFileNotFoundError\u001b[0m                         Traceback (most recent call last)",
      "\u001b[1;32m<ipython-input-29-676b92ad5d25>\u001b[0m in \u001b[0;36m<module>\u001b[1;34m\u001b[0m\n\u001b[0;32m      5\u001b[0m \u001b[1;33m\u001b[0m\u001b[0m\n\u001b[0;32m      6\u001b[0m \u001b[1;31m# Train the model\u001b[0m\u001b[1;33m\u001b[0m\u001b[1;33m\u001b[0m\u001b[1;33m\u001b[0m\u001b[0m\n\u001b[1;32m----> 7\u001b[1;33m \u001b[0mmodel\u001b[0m\u001b[1;33m.\u001b[0m\u001b[0mtrain\u001b[0m\u001b[1;33m(\u001b[0m\u001b[0mdata\u001b[0m\u001b[1;33m=\u001b[0m\u001b[1;34m'data.yaml'\u001b[0m\u001b[1;33m,\u001b[0m \u001b[0mepochs\u001b[0m\u001b[1;33m=\u001b[0m\u001b[1;36m100\u001b[0m\u001b[1;33m,\u001b[0m \u001b[0mdevice\u001b[0m\u001b[1;33m=\u001b[0m\u001b[1;34m'cpu'\u001b[0m\u001b[1;33m)\u001b[0m\u001b[1;33m\u001b[0m\u001b[1;33m\u001b[0m\u001b[0m\n\u001b[0m",
      "\u001b[1;32m~\\anaconda3\\lib\\site-packages\\ultralytics\\engine\\model.py\u001b[0m in \u001b[0;36mtrain\u001b[1;34m(self, trainer, **kwargs)\u001b[0m\n\u001b[0;32m    809\u001b[0m \u001b[1;33m\u001b[0m\u001b[0m\n\u001b[0;32m    810\u001b[0m         \u001b[0mself\u001b[0m\u001b[1;33m.\u001b[0m\u001b[0mtrainer\u001b[0m\u001b[1;33m.\u001b[0m\u001b[0mhub_session\u001b[0m \u001b[1;33m=\u001b[0m \u001b[0mself\u001b[0m\u001b[1;33m.\u001b[0m\u001b[0msession\u001b[0m  \u001b[1;31m# attach optional HUB session\u001b[0m\u001b[1;33m\u001b[0m\u001b[1;33m\u001b[0m\u001b[0m\n\u001b[1;32m--> 811\u001b[1;33m         \u001b[0mself\u001b[0m\u001b[1;33m.\u001b[0m\u001b[0mtrainer\u001b[0m\u001b[1;33m.\u001b[0m\u001b[0mtrain\u001b[0m\u001b[1;33m(\u001b[0m\u001b[1;33m)\u001b[0m\u001b[1;33m\u001b[0m\u001b[1;33m\u001b[0m\u001b[0m\n\u001b[0m\u001b[0;32m    812\u001b[0m         \u001b[1;31m# Update model and cfg after training\u001b[0m\u001b[1;33m\u001b[0m\u001b[1;33m\u001b[0m\u001b[1;33m\u001b[0m\u001b[0m\n\u001b[0;32m    813\u001b[0m         \u001b[1;32mif\u001b[0m \u001b[0mRANK\u001b[0m \u001b[1;32min\u001b[0m \u001b[1;33m{\u001b[0m\u001b[1;33m-\u001b[0m\u001b[1;36m1\u001b[0m\u001b[1;33m,\u001b[0m \u001b[1;36m0\u001b[0m\u001b[1;33m}\u001b[0m\u001b[1;33m:\u001b[0m\u001b[1;33m\u001b[0m\u001b[1;33m\u001b[0m\u001b[0m\n",
      "\u001b[1;32m~\\anaconda3\\lib\\site-packages\\ultralytics\\engine\\trainer.py\u001b[0m in \u001b[0;36mtrain\u001b[1;34m(self)\u001b[0m\n\u001b[0;32m    204\u001b[0m \u001b[1;33m\u001b[0m\u001b[0m\n\u001b[0;32m    205\u001b[0m         \u001b[1;32melse\u001b[0m\u001b[1;33m:\u001b[0m\u001b[1;33m\u001b[0m\u001b[1;33m\u001b[0m\u001b[0m\n\u001b[1;32m--> 206\u001b[1;33m             \u001b[0mself\u001b[0m\u001b[1;33m.\u001b[0m\u001b[0m_do_train\u001b[0m\u001b[1;33m(\u001b[0m\u001b[0mworld_size\u001b[0m\u001b[1;33m)\u001b[0m\u001b[1;33m\u001b[0m\u001b[1;33m\u001b[0m\u001b[0m\n\u001b[0m\u001b[0;32m    207\u001b[0m \u001b[1;33m\u001b[0m\u001b[0m\n\u001b[0;32m    208\u001b[0m     \u001b[1;32mdef\u001b[0m \u001b[0m_setup_scheduler\u001b[0m\u001b[1;33m(\u001b[0m\u001b[0mself\u001b[0m\u001b[1;33m)\u001b[0m\u001b[1;33m:\u001b[0m\u001b[1;33m\u001b[0m\u001b[1;33m\u001b[0m\u001b[0m\n",
      "\u001b[1;32m~\\anaconda3\\lib\\site-packages\\ultralytics\\engine\\trainer.py\u001b[0m in \u001b[0;36m_do_train\u001b[1;34m(self, world_size)\u001b[0m\n\u001b[0;32m    323\u001b[0m         \u001b[1;32mif\u001b[0m \u001b[0mworld_size\u001b[0m \u001b[1;33m>\u001b[0m \u001b[1;36m1\u001b[0m\u001b[1;33m:\u001b[0m\u001b[1;33m\u001b[0m\u001b[1;33m\u001b[0m\u001b[0m\n\u001b[0;32m    324\u001b[0m             \u001b[0mself\u001b[0m\u001b[1;33m.\u001b[0m\u001b[0m_setup_ddp\u001b[0m\u001b[1;33m(\u001b[0m\u001b[0mworld_size\u001b[0m\u001b[1;33m)\u001b[0m\u001b[1;33m\u001b[0m\u001b[1;33m\u001b[0m\u001b[0m\n\u001b[1;32m--> 325\u001b[1;33m         \u001b[0mself\u001b[0m\u001b[1;33m.\u001b[0m\u001b[0m_setup_train\u001b[0m\u001b[1;33m(\u001b[0m\u001b[0mworld_size\u001b[0m\u001b[1;33m)\u001b[0m\u001b[1;33m\u001b[0m\u001b[1;33m\u001b[0m\u001b[0m\n\u001b[0m\u001b[0;32m    326\u001b[0m \u001b[1;33m\u001b[0m\u001b[0m\n\u001b[0;32m    327\u001b[0m         \u001b[0mnb\u001b[0m \u001b[1;33m=\u001b[0m \u001b[0mlen\u001b[0m\u001b[1;33m(\u001b[0m\u001b[0mself\u001b[0m\u001b[1;33m.\u001b[0m\u001b[0mtrain_loader\u001b[0m\u001b[1;33m)\u001b[0m  \u001b[1;31m# number of batches\u001b[0m\u001b[1;33m\u001b[0m\u001b[1;33m\u001b[0m\u001b[0m\n",
      "\u001b[1;32m~\\anaconda3\\lib\\site-packages\\ultralytics\\engine\\trainer.py\u001b[0m in \u001b[0;36m_setup_train\u001b[1;34m(self, world_size)\u001b[0m\n\u001b[0;32m    287\u001b[0m         \u001b[1;31m# Dataloaders\u001b[0m\u001b[1;33m\u001b[0m\u001b[1;33m\u001b[0m\u001b[1;33m\u001b[0m\u001b[0m\n\u001b[0;32m    288\u001b[0m         \u001b[0mbatch_size\u001b[0m \u001b[1;33m=\u001b[0m \u001b[0mself\u001b[0m\u001b[1;33m.\u001b[0m\u001b[0mbatch_size\u001b[0m \u001b[1;33m//\u001b[0m \u001b[0mmax\u001b[0m\u001b[1;33m(\u001b[0m\u001b[0mworld_size\u001b[0m\u001b[1;33m,\u001b[0m \u001b[1;36m1\u001b[0m\u001b[1;33m)\u001b[0m\u001b[1;33m\u001b[0m\u001b[1;33m\u001b[0m\u001b[0m\n\u001b[1;32m--> 289\u001b[1;33m         \u001b[0mself\u001b[0m\u001b[1;33m.\u001b[0m\u001b[0mtrain_loader\u001b[0m \u001b[1;33m=\u001b[0m \u001b[0mself\u001b[0m\u001b[1;33m.\u001b[0m\u001b[0mget_dataloader\u001b[0m\u001b[1;33m(\u001b[0m\u001b[0mself\u001b[0m\u001b[1;33m.\u001b[0m\u001b[0mtrainset\u001b[0m\u001b[1;33m,\u001b[0m \u001b[0mbatch_size\u001b[0m\u001b[1;33m=\u001b[0m\u001b[0mbatch_size\u001b[0m\u001b[1;33m,\u001b[0m \u001b[0mrank\u001b[0m\u001b[1;33m=\u001b[0m\u001b[0mLOCAL_RANK\u001b[0m\u001b[1;33m,\u001b[0m \u001b[0mmode\u001b[0m\u001b[1;33m=\u001b[0m\u001b[1;34m\"train\"\u001b[0m\u001b[1;33m)\u001b[0m\u001b[1;33m\u001b[0m\u001b[1;33m\u001b[0m\u001b[0m\n\u001b[0m\u001b[0;32m    290\u001b[0m         \u001b[1;32mif\u001b[0m \u001b[0mRANK\u001b[0m \u001b[1;32min\u001b[0m \u001b[1;33m{\u001b[0m\u001b[1;33m-\u001b[0m\u001b[1;36m1\u001b[0m\u001b[1;33m,\u001b[0m \u001b[1;36m0\u001b[0m\u001b[1;33m}\u001b[0m\u001b[1;33m:\u001b[0m\u001b[1;33m\u001b[0m\u001b[1;33m\u001b[0m\u001b[0m\n\u001b[0;32m    291\u001b[0m             \u001b[1;31m# Note: When training DOTA dataset, double batch size could get OOM on images with >2000 objects.\u001b[0m\u001b[1;33m\u001b[0m\u001b[1;33m\u001b[0m\u001b[1;33m\u001b[0m\u001b[0m\n",
      "\u001b[1;32m~\\anaconda3\\lib\\site-packages\\ultralytics\\models\\yolo\\detect\\train.py\u001b[0m in \u001b[0;36mget_dataloader\u001b[1;34m(self, dataset_path, batch_size, rank, mode)\u001b[0m\n\u001b[0;32m     47\u001b[0m         \u001b[1;32massert\u001b[0m \u001b[0mmode\u001b[0m \u001b[1;32min\u001b[0m \u001b[1;33m{\u001b[0m\u001b[1;34m\"train\"\u001b[0m\u001b[1;33m,\u001b[0m \u001b[1;34m\"val\"\u001b[0m\u001b[1;33m}\u001b[0m\u001b[1;33m,\u001b[0m \u001b[1;34mf\"Mode must be 'train' or 'val', not {mode}.\"\u001b[0m\u001b[1;33m\u001b[0m\u001b[1;33m\u001b[0m\u001b[0m\n\u001b[0;32m     48\u001b[0m         \u001b[1;32mwith\u001b[0m \u001b[0mtorch_distributed_zero_first\u001b[0m\u001b[1;33m(\u001b[0m\u001b[0mrank\u001b[0m\u001b[1;33m)\u001b[0m\u001b[1;33m:\u001b[0m  \u001b[1;31m# init dataset *.cache only once if DDP\u001b[0m\u001b[1;33m\u001b[0m\u001b[1;33m\u001b[0m\u001b[0m\n\u001b[1;32m---> 49\u001b[1;33m             \u001b[0mdataset\u001b[0m \u001b[1;33m=\u001b[0m \u001b[0mself\u001b[0m\u001b[1;33m.\u001b[0m\u001b[0mbuild_dataset\u001b[0m\u001b[1;33m(\u001b[0m\u001b[0mdataset_path\u001b[0m\u001b[1;33m,\u001b[0m \u001b[0mmode\u001b[0m\u001b[1;33m,\u001b[0m \u001b[0mbatch_size\u001b[0m\u001b[1;33m)\u001b[0m\u001b[1;33m\u001b[0m\u001b[1;33m\u001b[0m\u001b[0m\n\u001b[0m\u001b[0;32m     50\u001b[0m         \u001b[0mshuffle\u001b[0m \u001b[1;33m=\u001b[0m \u001b[0mmode\u001b[0m \u001b[1;33m==\u001b[0m \u001b[1;34m\"train\"\u001b[0m\u001b[1;33m\u001b[0m\u001b[1;33m\u001b[0m\u001b[0m\n\u001b[0;32m     51\u001b[0m         \u001b[1;32mif\u001b[0m \u001b[0mgetattr\u001b[0m\u001b[1;33m(\u001b[0m\u001b[0mdataset\u001b[0m\u001b[1;33m,\u001b[0m \u001b[1;34m\"rect\"\u001b[0m\u001b[1;33m,\u001b[0m \u001b[1;32mFalse\u001b[0m\u001b[1;33m)\u001b[0m \u001b[1;32mand\u001b[0m \u001b[0mshuffle\u001b[0m\u001b[1;33m:\u001b[0m\u001b[1;33m\u001b[0m\u001b[1;33m\u001b[0m\u001b[0m\n",
      "\u001b[1;32m~\\anaconda3\\lib\\site-packages\\ultralytics\\models\\yolo\\detect\\train.py\u001b[0m in \u001b[0;36mbuild_dataset\u001b[1;34m(self, img_path, mode, batch)\u001b[0m\n\u001b[0;32m     41\u001b[0m         \"\"\"\n\u001b[0;32m     42\u001b[0m         \u001b[0mgs\u001b[0m \u001b[1;33m=\u001b[0m \u001b[0mmax\u001b[0m\u001b[1;33m(\u001b[0m\u001b[0mint\u001b[0m\u001b[1;33m(\u001b[0m\u001b[0mde_parallel\u001b[0m\u001b[1;33m(\u001b[0m\u001b[0mself\u001b[0m\u001b[1;33m.\u001b[0m\u001b[0mmodel\u001b[0m\u001b[1;33m)\u001b[0m\u001b[1;33m.\u001b[0m\u001b[0mstride\u001b[0m\u001b[1;33m.\u001b[0m\u001b[0mmax\u001b[0m\u001b[1;33m(\u001b[0m\u001b[1;33m)\u001b[0m \u001b[1;32mif\u001b[0m \u001b[0mself\u001b[0m\u001b[1;33m.\u001b[0m\u001b[0mmodel\u001b[0m \u001b[1;32melse\u001b[0m \u001b[1;36m0\u001b[0m\u001b[1;33m)\u001b[0m\u001b[1;33m,\u001b[0m \u001b[1;36m32\u001b[0m\u001b[1;33m)\u001b[0m\u001b[1;33m\u001b[0m\u001b[1;33m\u001b[0m\u001b[0m\n\u001b[1;32m---> 43\u001b[1;33m         \u001b[1;32mreturn\u001b[0m \u001b[0mbuild_yolo_dataset\u001b[0m\u001b[1;33m(\u001b[0m\u001b[0mself\u001b[0m\u001b[1;33m.\u001b[0m\u001b[0margs\u001b[0m\u001b[1;33m,\u001b[0m \u001b[0mimg_path\u001b[0m\u001b[1;33m,\u001b[0m \u001b[0mbatch\u001b[0m\u001b[1;33m,\u001b[0m \u001b[0mself\u001b[0m\u001b[1;33m.\u001b[0m\u001b[0mdata\u001b[0m\u001b[1;33m,\u001b[0m \u001b[0mmode\u001b[0m\u001b[1;33m=\u001b[0m\u001b[0mmode\u001b[0m\u001b[1;33m,\u001b[0m \u001b[0mrect\u001b[0m\u001b[1;33m=\u001b[0m\u001b[0mmode\u001b[0m \u001b[1;33m==\u001b[0m \u001b[1;34m\"val\"\u001b[0m\u001b[1;33m,\u001b[0m \u001b[0mstride\u001b[0m\u001b[1;33m=\u001b[0m\u001b[0mgs\u001b[0m\u001b[1;33m)\u001b[0m\u001b[1;33m\u001b[0m\u001b[1;33m\u001b[0m\u001b[0m\n\u001b[0m\u001b[0;32m     44\u001b[0m \u001b[1;33m\u001b[0m\u001b[0m\n\u001b[0;32m     45\u001b[0m     \u001b[1;32mdef\u001b[0m \u001b[0mget_dataloader\u001b[0m\u001b[1;33m(\u001b[0m\u001b[0mself\u001b[0m\u001b[1;33m,\u001b[0m \u001b[0mdataset_path\u001b[0m\u001b[1;33m,\u001b[0m \u001b[0mbatch_size\u001b[0m\u001b[1;33m=\u001b[0m\u001b[1;36m16\u001b[0m\u001b[1;33m,\u001b[0m \u001b[0mrank\u001b[0m\u001b[1;33m=\u001b[0m\u001b[1;36m0\u001b[0m\u001b[1;33m,\u001b[0m \u001b[0mmode\u001b[0m\u001b[1;33m=\u001b[0m\u001b[1;34m\"train\"\u001b[0m\u001b[1;33m)\u001b[0m\u001b[1;33m:\u001b[0m\u001b[1;33m\u001b[0m\u001b[1;33m\u001b[0m\u001b[0m\n",
      "\u001b[1;32m~\\anaconda3\\lib\\site-packages\\ultralytics\\data\\build.py\u001b[0m in \u001b[0;36mbuild_yolo_dataset\u001b[1;34m(cfg, img_path, batch, data, mode, rect, stride, multi_modal)\u001b[0m\n\u001b[0;32m     85\u001b[0m     \u001b[1;34m\"\"\"Build YOLO Dataset.\"\"\"\u001b[0m\u001b[1;33m\u001b[0m\u001b[1;33m\u001b[0m\u001b[0m\n\u001b[0;32m     86\u001b[0m     \u001b[0mdataset\u001b[0m \u001b[1;33m=\u001b[0m \u001b[0mYOLOMultiModalDataset\u001b[0m \u001b[1;32mif\u001b[0m \u001b[0mmulti_modal\u001b[0m \u001b[1;32melse\u001b[0m \u001b[0mYOLODataset\u001b[0m\u001b[1;33m\u001b[0m\u001b[1;33m\u001b[0m\u001b[0m\n\u001b[1;32m---> 87\u001b[1;33m     return dataset(\n\u001b[0m\u001b[0;32m     88\u001b[0m         \u001b[0mimg_path\u001b[0m\u001b[1;33m=\u001b[0m\u001b[0mimg_path\u001b[0m\u001b[1;33m,\u001b[0m\u001b[1;33m\u001b[0m\u001b[1;33m\u001b[0m\u001b[0m\n\u001b[0;32m     89\u001b[0m         \u001b[0mimgsz\u001b[0m\u001b[1;33m=\u001b[0m\u001b[0mcfg\u001b[0m\u001b[1;33m.\u001b[0m\u001b[0mimgsz\u001b[0m\u001b[1;33m,\u001b[0m\u001b[1;33m\u001b[0m\u001b[1;33m\u001b[0m\u001b[0m\n",
      "\u001b[1;32m~\\anaconda3\\lib\\site-packages\\ultralytics\\data\\dataset.py\u001b[0m in \u001b[0;36m__init__\u001b[1;34m(self, data, task, *args, **kwargs)\u001b[0m\n\u001b[0;32m     63\u001b[0m         \u001b[0mself\u001b[0m\u001b[1;33m.\u001b[0m\u001b[0mdata\u001b[0m \u001b[1;33m=\u001b[0m \u001b[0mdata\u001b[0m\u001b[1;33m\u001b[0m\u001b[1;33m\u001b[0m\u001b[0m\n\u001b[0;32m     64\u001b[0m         \u001b[1;32massert\u001b[0m \u001b[1;32mnot\u001b[0m \u001b[1;33m(\u001b[0m\u001b[0mself\u001b[0m\u001b[1;33m.\u001b[0m\u001b[0muse_segments\u001b[0m \u001b[1;32mand\u001b[0m \u001b[0mself\u001b[0m\u001b[1;33m.\u001b[0m\u001b[0muse_keypoints\u001b[0m\u001b[1;33m)\u001b[0m\u001b[1;33m,\u001b[0m \u001b[1;34m\"Can not use both segments and keypoints.\"\u001b[0m\u001b[1;33m\u001b[0m\u001b[1;33m\u001b[0m\u001b[0m\n\u001b[1;32m---> 65\u001b[1;33m         \u001b[0msuper\u001b[0m\u001b[1;33m(\u001b[0m\u001b[1;33m)\u001b[0m\u001b[1;33m.\u001b[0m\u001b[0m__init__\u001b[0m\u001b[1;33m(\u001b[0m\u001b[1;33m*\u001b[0m\u001b[0margs\u001b[0m\u001b[1;33m,\u001b[0m \u001b[1;33m**\u001b[0m\u001b[0mkwargs\u001b[0m\u001b[1;33m)\u001b[0m\u001b[1;33m\u001b[0m\u001b[1;33m\u001b[0m\u001b[0m\n\u001b[0m\u001b[0;32m     66\u001b[0m \u001b[1;33m\u001b[0m\u001b[0m\n\u001b[0;32m     67\u001b[0m     \u001b[1;32mdef\u001b[0m \u001b[0mcache_labels\u001b[0m\u001b[1;33m(\u001b[0m\u001b[0mself\u001b[0m\u001b[1;33m,\u001b[0m \u001b[0mpath\u001b[0m\u001b[1;33m=\u001b[0m\u001b[0mPath\u001b[0m\u001b[1;33m(\u001b[0m\u001b[1;34m\"./labels.cache\"\u001b[0m\u001b[1;33m)\u001b[0m\u001b[1;33m)\u001b[0m\u001b[1;33m:\u001b[0m\u001b[1;33m\u001b[0m\u001b[1;33m\u001b[0m\u001b[0m\n",
      "\u001b[1;32m~\\anaconda3\\lib\\site-packages\\ultralytics\\data\\base.py\u001b[0m in \u001b[0;36m__init__\u001b[1;34m(self, img_path, imgsz, cache, augment, hyp, prefix, rect, batch_size, stride, pad, single_cls, classes, fraction)\u001b[0m\n\u001b[0;32m     71\u001b[0m         \u001b[0mself\u001b[0m\u001b[1;33m.\u001b[0m\u001b[0mprefix\u001b[0m \u001b[1;33m=\u001b[0m \u001b[0mprefix\u001b[0m\u001b[1;33m\u001b[0m\u001b[1;33m\u001b[0m\u001b[0m\n\u001b[0;32m     72\u001b[0m         \u001b[0mself\u001b[0m\u001b[1;33m.\u001b[0m\u001b[0mfraction\u001b[0m \u001b[1;33m=\u001b[0m \u001b[0mfraction\u001b[0m\u001b[1;33m\u001b[0m\u001b[1;33m\u001b[0m\u001b[0m\n\u001b[1;32m---> 73\u001b[1;33m         \u001b[0mself\u001b[0m\u001b[1;33m.\u001b[0m\u001b[0mim_files\u001b[0m \u001b[1;33m=\u001b[0m \u001b[0mself\u001b[0m\u001b[1;33m.\u001b[0m\u001b[0mget_img_files\u001b[0m\u001b[1;33m(\u001b[0m\u001b[0mself\u001b[0m\u001b[1;33m.\u001b[0m\u001b[0mimg_path\u001b[0m\u001b[1;33m)\u001b[0m\u001b[1;33m\u001b[0m\u001b[1;33m\u001b[0m\u001b[0m\n\u001b[0m\u001b[0;32m     74\u001b[0m         \u001b[0mself\u001b[0m\u001b[1;33m.\u001b[0m\u001b[0mlabels\u001b[0m \u001b[1;33m=\u001b[0m \u001b[0mself\u001b[0m\u001b[1;33m.\u001b[0m\u001b[0mget_labels\u001b[0m\u001b[1;33m(\u001b[0m\u001b[1;33m)\u001b[0m\u001b[1;33m\u001b[0m\u001b[1;33m\u001b[0m\u001b[0m\n\u001b[0;32m     75\u001b[0m         \u001b[0mself\u001b[0m\u001b[1;33m.\u001b[0m\u001b[0mupdate_labels\u001b[0m\u001b[1;33m(\u001b[0m\u001b[0minclude_class\u001b[0m\u001b[1;33m=\u001b[0m\u001b[0mclasses\u001b[0m\u001b[1;33m)\u001b[0m  \u001b[1;31m# single_cls and include_class\u001b[0m\u001b[1;33m\u001b[0m\u001b[1;33m\u001b[0m\u001b[0m\n",
      "\u001b[1;32m~\\anaconda3\\lib\\site-packages\\ultralytics\\data\\base.py\u001b[0m in \u001b[0;36mget_img_files\u001b[1;34m(self, img_path)\u001b[0m\n\u001b[0;32m    118\u001b[0m             \u001b[1;32massert\u001b[0m \u001b[0mim_files\u001b[0m\u001b[1;33m,\u001b[0m \u001b[1;34mf\"{self.prefix}No images found in {img_path}. {FORMATS_HELP_MSG}\"\u001b[0m\u001b[1;33m\u001b[0m\u001b[1;33m\u001b[0m\u001b[0m\n\u001b[0;32m    119\u001b[0m         \u001b[1;32mexcept\u001b[0m \u001b[0mException\u001b[0m \u001b[1;32mas\u001b[0m \u001b[0me\u001b[0m\u001b[1;33m:\u001b[0m\u001b[1;33m\u001b[0m\u001b[1;33m\u001b[0m\u001b[0m\n\u001b[1;32m--> 120\u001b[1;33m             \u001b[1;32mraise\u001b[0m \u001b[0mFileNotFoundError\u001b[0m\u001b[1;33m(\u001b[0m\u001b[1;34mf\"{self.prefix}Error loading data from {img_path}\\n{HELP_URL}\"\u001b[0m\u001b[1;33m)\u001b[0m \u001b[1;32mfrom\u001b[0m \u001b[0me\u001b[0m\u001b[1;33m\u001b[0m\u001b[1;33m\u001b[0m\u001b[0m\n\u001b[0m\u001b[0;32m    121\u001b[0m         \u001b[1;32mif\u001b[0m \u001b[0mself\u001b[0m\u001b[1;33m.\u001b[0m\u001b[0mfraction\u001b[0m \u001b[1;33m<\u001b[0m \u001b[1;36m1\u001b[0m\u001b[1;33m:\u001b[0m\u001b[1;33m\u001b[0m\u001b[1;33m\u001b[0m\u001b[0m\n\u001b[0;32m    122\u001b[0m             \u001b[0mim_files\u001b[0m \u001b[1;33m=\u001b[0m \u001b[0mim_files\u001b[0m\u001b[1;33m[\u001b[0m\u001b[1;33m:\u001b[0m \u001b[0mround\u001b[0m\u001b[1;33m(\u001b[0m\u001b[0mlen\u001b[0m\u001b[1;33m(\u001b[0m\u001b[0mim_files\u001b[0m\u001b[1;33m)\u001b[0m \u001b[1;33m*\u001b[0m \u001b[0mself\u001b[0m\u001b[1;33m.\u001b[0m\u001b[0mfraction\u001b[0m\u001b[1;33m)\u001b[0m\u001b[1;33m]\u001b[0m  \u001b[1;31m# retain a fraction of the dataset\u001b[0m\u001b[1;33m\u001b[0m\u001b[1;33m\u001b[0m\u001b[0m\n",
      "\u001b[1;31mFileNotFoundError\u001b[0m: \u001b[34m\u001b[1mtrain: \u001b[0mError loading data from E:\\[1]-Cascade learning-Unsafe behavior of cranes\\Final data from UBDA-GVM\\Detection\\datasets\\crane_detection_dataset\\train\nSee https://docs.ultralytics.com/datasets for dataset formatting guidance."
     ]
    }
   ],
   "source": [
    "from ultralytics import YOLO\n",
    "\n",
    "# Load your model\n",
    "model = YOLO('yolov8l.pt')\n",
    "\n",
    "# Train the model\n",
    "model.train(data='data.yaml', epochs=100, device='cpu')  "
   ]
  },
  {
   "cell_type": "code",
   "execution_count": 2,
   "metadata": {},
   "outputs": [
    {
     "name": "stdout",
     "output_type": "stream",
     "text": [
      "WARNING âš ï¸� argument '--cache' does not require leading dashes '--', updating to 'cache'.\n",
      "Ultralytics YOLOv8.2.75 ðŸš€ Python-3.12.4 torch-2.4.0+cpu CPU (Intel Core(TM) i9-10900 2.80GHz)\n",
      "\u001b[34m\u001b[1mengine\\trainer: \u001b[0mtask=detect, mode=train, model=yolov8s.pt, data=data.yaml, epochs=50, time=None, patience=100, batch=32, imgsz=640, save=True, save_period=-1, cache=True, device=None, workers=8, project=None, name=train11, exist_ok=False, pretrained=True, optimizer=auto, verbose=True, seed=0, deterministic=True, single_cls=False, rect=False, cos_lr=False, close_mosaic=10, resume=False, amp=True, fraction=1.0, profile=False, freeze=None, multi_scale=False, overlap_mask=True, mask_ratio=4, dropout=0.0, val=True, split=val, save_json=False, save_hybrid=False, conf=None, iou=0.7, max_det=300, half=False, dnn=False, plots=True, source=None, vid_stride=1, stream_buffer=False, visualize=False, augment=False, agnostic_nms=False, classes=None, retina_masks=False, embed=None, show=False, save_frames=False, save_txt=False, save_conf=False, save_crop=False, show_labels=True, show_conf=True, show_boxes=True, line_width=None, format=torchscript, keras=False, optimize=False, int8=False, dynamic=False, simplify=False, opset=None, workspace=4, nms=False, lr0=0.01, lrf=0.01, momentum=0.937, weight_decay=0.0005, warmup_epochs=3.0, warmup_momentum=0.8, warmup_bias_lr=0.1, box=7.5, cls=0.5, dfl=1.5, pose=12.0, kobj=1.0, label_smoothing=0.0, nbs=64, hsv_h=0.015, hsv_s=0.7, hsv_v=0.4, degrees=0.0, translate=0.1, scale=0.5, shear=0.0, perspective=0.0, flipud=0.0, fliplr=0.5, bgr=0.0, mosaic=1.0, mixup=0.0, copy_paste=0.0, auto_augment=randaugment, erasing=0.4, crop_fraction=1.0, cfg=None, tracker=botsort.yaml, save_dir=runs\\detect\\train11\n",
      "Overriding model.yaml nc=80 with nc=2\n",
      "\n",
      "                   from  n    params  module                                       arguments                     \n",
      "  0                  -1  1       928  ultralytics.nn.modules.conv.Conv             [3, 32, 3, 2]                 \n",
      "  1                  -1  1     18560  ultralytics.nn.modules.conv.Conv             [32, 64, 3, 2]                \n",
      "  2                  -1  1     29056  ultralytics.nn.modules.block.C2f             [64, 64, 1, True]             \n",
      "  3                  -1  1     73984  ultralytics.nn.modules.conv.Conv             [64, 128, 3, 2]               \n",
      "  4                  -1  2    197632  ultralytics.nn.modules.block.C2f             [128, 128, 2, True]           \n",
      "  5                  -1  1    295424  ultralytics.nn.modules.conv.Conv             [128, 256, 3, 2]              \n",
      "  6                  -1  2    788480  ultralytics.nn.modules.block.C2f             [256, 256, 2, True]           \n",
      "  7                  -1  1   1180672  ultralytics.nn.modules.conv.Conv             [256, 512, 3, 2]              \n",
      "  8                  -1  1   1838080  ultralytics.nn.modules.block.C2f             [512, 512, 1, True]           \n",
      "  9                  -1  1    656896  ultralytics.nn.modules.block.SPPF            [512, 512, 5]                 \n",
      " 10                  -1  1         0  torch.nn.modules.upsampling.Upsample         [None, 2, 'nearest']          \n",
      " 11             [-1, 6]  1         0  ultralytics.nn.modules.conv.Concat           [1]                           \n",
      " 12                  -1  1    591360  ultralytics.nn.modules.block.C2f             [768, 256, 1]                 \n",
      " 13                  -1  1         0  torch.nn.modules.upsampling.Upsample         [None, 2, 'nearest']          \n",
      " 14             [-1, 4]  1         0  ultralytics.nn.modules.conv.Concat           [1]                           \n",
      " 15                  -1  1    148224  ultralytics.nn.modules.block.C2f             [384, 128, 1]                 \n",
      " 16                  -1  1    147712  ultralytics.nn.modules.conv.Conv             [128, 128, 3, 2]              \n",
      " 17            [-1, 12]  1         0  ultralytics.nn.modules.conv.Concat           [1]                           \n",
      " 18                  -1  1    493056  ultralytics.nn.modules.block.C2f             [384, 256, 1]                 \n",
      " 19                  -1  1    590336  ultralytics.nn.modules.conv.Conv             [256, 256, 3, 2]              \n",
      " 20             [-1, 9]  1         0  ultralytics.nn.modules.conv.Concat           [1]                           \n",
      " 21                  -1  1   1969152  ultralytics.nn.modules.block.C2f             [768, 512, 1]                 \n",
      " 22        [15, 18, 21]  1   2116822  ultralytics.nn.modules.head.Detect           [2, [128, 256, 512]]          \n",
      "Model summary: 225 layers, 11,136,374 parameters, 11,136,358 gradients, 28.6 GFLOPs\n",
      "\n",
      "Transferred 349/355 items from pretrained weights\n",
      "Freezing layer 'model.22.dfl.conv.weight'\n"
     ]
    },
    {
     "name": "stderr",
     "output_type": "stream",
     "text": [
      "C:\\Users\\Mudasir Hussain\\anaconda3\\envs\\myenv\\Lib\\site-packages\\ultralytics\\engine\\trainer.py:269: FutureWarning: `torch.cuda.amp.GradScaler(args...)` is deprecated. Please use `torch.amp.GradScaler('cuda', args...)` instead.\n",
      "  self.scaler = torch.cuda.amp.GradScaler(enabled=self.amp)\n",
      "Traceback (most recent call last):\n",
      "  File \"C:\\Users\\Mudasir Hussain\\anaconda3\\envs\\myenv\\Lib\\site-packages\\ultralytics\\data\\base.py\", line 118, in get_img_files\n",
      "    assert im_files, f\"{self.prefix}No images found in {img_path}. {FORMATS_HELP_MSG}\"\n",
      "           ^^^^^^^^\n",
      "AssertionError: \u001b[34m\u001b[1mtrain: \u001b[0mNo images found in E:\\[1]-Cascade learning-Unsafe behavior of cranes\\Final data from UBDA-GVM\\Detection\\datasets\\crane_detection_dataset\\train. Supported formats are:\n",
      "images: {'mpo', 'jpg', 'jpeg', 'tiff', 'pfm', 'webp', 'png', 'dng', 'tif', 'bmp'}\n",
      "videos: {'ts', 'mov', 'avi', 'webm', 'gif', 'wmv', 'mkv', 'mp4', 'mpg', 'mpeg', 'm4v', 'asf'}\n",
      "\n",
      "The above exception was the direct cause of the following exception:\n",
      "\n",
      "Traceback (most recent call last):\n",
      "  File \"<frozen runpy>\", line 198, in _run_module_as_main\n",
      "  File \"<frozen runpy>\", line 88, in _run_code\n",
      "  File \"C:\\Users\\Mudasir Hussain\\anaconda3\\envs\\myenv\\Scripts\\yolo.exe\\__main__.py\", line 7, in <module>\n",
      "  File \"C:\\Users\\Mudasir Hussain\\anaconda3\\envs\\myenv\\Lib\\site-packages\\ultralytics\\cfg\\__init__.py\", line 834, in entrypoint\n",
      "    getattr(model, mode)(**overrides)  # default args from model\n",
      "    ^^^^^^^^^^^^^^^^^^^^^^^^^^^^^^^^^\n",
      "  File \"C:\\Users\\Mudasir Hussain\\anaconda3\\envs\\myenv\\Lib\\site-packages\\ultralytics\\engine\\model.py\", line 811, in train\n",
      "    self.trainer.train()\n",
      "  File \"C:\\Users\\Mudasir Hussain\\anaconda3\\envs\\myenv\\Lib\\site-packages\\ultralytics\\engine\\trainer.py\", line 206, in train\n",
      "    self._do_train(world_size)\n",
      "  File \"C:\\Users\\Mudasir Hussain\\anaconda3\\envs\\myenv\\Lib\\site-packages\\ultralytics\\engine\\trainer.py\", line 325, in _do_train\n",
      "    self._setup_train(world_size)\n",
      "  File \"C:\\Users\\Mudasir Hussain\\anaconda3\\envs\\myenv\\Lib\\site-packages\\ultralytics\\engine\\trainer.py\", line 289, in _setup_train\n",
      "    self.train_loader = self.get_dataloader(self.trainset, batch_size=batch_size, rank=LOCAL_RANK, mode=\"train\")\n",
      "                        ^^^^^^^^^^^^^^^^^^^^^^^^^^^^^^^^^^^^^^^^^^^^^^^^^^^^^^^^^^^^^^^^^^^^^^^^^^^^^^^^^^^^^^^^\n",
      "  File \"C:\\Users\\Mudasir Hussain\\anaconda3\\envs\\myenv\\Lib\\site-packages\\ultralytics\\models\\yolo\\detect\\train.py\", line 49, in get_dataloader\n",
      "    dataset = self.build_dataset(dataset_path, mode, batch_size)\n",
      "              ^^^^^^^^^^^^^^^^^^^^^^^^^^^^^^^^^^^^^^^^^^^^^^^^^^\n",
      "  File \"C:\\Users\\Mudasir Hussain\\anaconda3\\envs\\myenv\\Lib\\site-packages\\ultralytics\\models\\yolo\\detect\\train.py\", line 43, in build_dataset\n",
      "    return build_yolo_dataset(self.args, img_path, batch, self.data, mode=mode, rect=mode == \"val\", stride=gs)\n",
      "           ^^^^^^^^^^^^^^^^^^^^^^^^^^^^^^^^^^^^^^^^^^^^^^^^^^^^^^^^^^^^^^^^^^^^^^^^^^^^^^^^^^^^^^^^^^^^^^^^^^^\n",
      "  File \"C:\\Users\\Mudasir Hussain\\anaconda3\\envs\\myenv\\Lib\\site-packages\\ultralytics\\data\\build.py\", line 87, in build_yolo_dataset\n",
      "    return dataset(\n",
      "           ^^^^^^^^\n",
      "  File \"C:\\Users\\Mudasir Hussain\\anaconda3\\envs\\myenv\\Lib\\site-packages\\ultralytics\\data\\dataset.py\", line 65, in __init__\n",
      "    super().__init__(*args, **kwargs)\n",
      "  File \"C:\\Users\\Mudasir Hussain\\anaconda3\\envs\\myenv\\Lib\\site-packages\\ultralytics\\data\\base.py\", line 73, in __init__\n",
      "    self.im_files = self.get_img_files(self.img_path)\n",
      "                    ^^^^^^^^^^^^^^^^^^^^^^^^^^^^^^^^^\n",
      "  File \"C:\\Users\\Mudasir Hussain\\anaconda3\\envs\\myenv\\Lib\\site-packages\\ultralytics\\data\\base.py\", line 120, in get_img_files\n",
      "    raise FileNotFoundError(f\"{self.prefix}Error loading data from {img_path}\\n{HELP_URL}\") from e\n",
      "FileNotFoundError: \u001b[34m\u001b[1mtrain: \u001b[0mError loading data from E:\\[1]-Cascade learning-Unsafe behavior of cranes\\Final data from UBDA-GVM\\Detection\\datasets\\crane_detection_dataset\\train\n",
      "See https://docs.ultralytics.com/datasets for dataset formatting guidance.\n"
     ]
    }
   ],
   "source": [
    "!yolo task=detect mode=train model=yolov8s.pt data=data.yaml epochs=50 batch=32 --cache"
   ]
  },
  {
   "cell_type": "code",
   "execution_count": null,
   "metadata": {},
   "outputs": [],
   "source": [
    "import pandas as pd\n",
    "import matplotlib.pyplot as plt\n",
    "\n",
    "column_names = ['epoch', 'train/giou_loss', 'train/cls_loss', 'train/l1_loss',\n",
    "                'metrics/precision(B)', 'metrics/recall(B)', 'metrics/mAP50(B)', 'metrics/mAP50-95(B)',\n",
    "                'val/giou_loss', 'val/cls_loss', 'val/l1_loss',\n",
    "                'lr/pg0', 'lr/pg1', 'lr/pg2']\n",
    "df = pd.read_csv('runs/detect/RT_DETR_0018/results.csv', names=column_names, skiprows=1)"
   ]
  },
  {
   "cell_type": "code",
   "execution_count": null,
   "metadata": {
    "executionInfo": {
     "elapsed": 2,
     "status": "ok",
     "timestamp": 1721218697104,
     "user": {
      "displayName": "Gan Project",
      "userId": "10714615017816106068"
     },
     "user_tz": -300
    },
    "id": "KxkIP7Vbzncb"
   },
   "outputs": [],
   "source": [
    "epochs = df['epoch']\n",
    "train_giou_loss = df['train/giou_loss']\n",
    "train_cls_loss = df['train/cls_loss']\n",
    "train_l1_loss = df['train/l1_loss']\n",
    "val_giou_loss = df['val/giou_loss']\n",
    "val_cls_loss = df['val/cls_loss']\n",
    "val_l1_loss = df['val/l1_loss']\n",
    "metrics_precision = df['metrics/precision(B)']\n",
    "metrics_recall = df['metrics/recall(B)']\n",
    "metrics_mAP50 = df['metrics/mAP50(B)']\n",
    "metrics_mAP50_95 = df['metrics/mAP50-95(B)']"
   ]
  },
  {
   "cell_type": "code",
   "execution_count": null,
   "metadata": {
    "colab": {
     "base_uri": "https://localhost:8080/",
     "height": 1000
    },
    "executionInfo": {
     "elapsed": 1426,
     "status": "ok",
     "timestamp": 1721218698528,
     "user": {
      "displayName": "Gan Project",
      "userId": "10714615017816106068"
     },
     "user_tz": -300
    },
    "id": "c03lIyRRyqLW",
    "outputId": "abfe557a-8387-4414-bb8d-1f9c5b8029ae"
   },
   "outputs": [],
   "source": [
    "plt.figure(figsize=(6, 12))\n",
    "plt.subplot(3, 1, 1)\n",
    "plt.plot(epochs, train_giou_loss, label='Train GIoU Loss', color='blue')\n",
    "plt.plot(epochs, val_giou_loss, label='Val GIoU Loss', linestyle='--', color='blue')\n",
    "plt.xlabel('Epoch')\n",
    "plt.ylabel('Loss')\n",
    "plt.title('GIoU Losses')\n",
    "plt.legend()\n",
    "plt.grid(True)\n",
    "\n",
    "plt.subplot(3, 1, 2)\n",
    "plt.plot(epochs, train_cls_loss, label='Train CLS Loss', color='orange')\n",
    "plt.plot(epochs, val_cls_loss, label='Val CLS Loss', linestyle='--', color='orange')\n",
    "plt.xlabel('Epoch')\n",
    "plt.ylabel('Loss')\n",
    "plt.title('CLS Losses')\n",
    "plt.legend()\n",
    "plt.grid(True)\n",
    "\n",
    "plt.subplot(3, 1, 3)\n",
    "plt.plot(epochs, train_l1_loss, label='Train L1 Loss', color='green')\n",
    "plt.plot(epochs, val_l1_loss, label='Val L1 Loss', linestyle='--', color='green')\n",
    "plt.xlabel('Epoch')\n",
    "plt.ylabel('Loss')\n",
    "plt.title('L1 Losses')\n",
    "plt.legend()\n",
    "plt.grid(True)\n",
    "\n",
    "plt.tight_layout()\n",
    "plt.show()\n"
   ]
  },
  {
   "cell_type": "code",
   "execution_count": null,
   "metadata": {
    "colab": {
     "base_uri": "https://localhost:8080/",
     "height": 487
    },
    "executionInfo": {
     "elapsed": 1149,
     "status": "ok",
     "timestamp": 1721218699673,
     "user": {
      "displayName": "Gan Project",
      "userId": "10714615017816106068"
     },
     "user_tz": -300
    },
    "id": "gayZPRuTzIga",
    "outputId": "f7010d54-2636-49b4-d0b5-3131d9847feb"
   },
   "outputs": [],
   "source": [
    "plt.plot(epochs, metrics_precision, label='Precision', color='red')\n",
    "plt.plot(epochs, metrics_recall, label='Recall', linestyle='--', color='red')\n",
    "plt.plot(epochs, metrics_mAP50, label='mAP50', color='blue')\n",
    "plt.plot(epochs, metrics_mAP50_95, label='mAP50-95', linestyle='--', color='blue')\n",
    "plt.xlabel('Epoch')\n",
    "plt.ylabel('Score')\n",
    "plt.title('Precision, Recall, mAP50, mAP50-95')\n",
    "plt.legend()\n",
    "plt.grid(True)\n",
    "\n",
    "plt.tight_layout()\n",
    "plt.show()\n"
   ]
  }
 ],
 "metadata": {
  "accelerator": "GPU",
  "colab": {
   "gpuType": "T4",
   "provenance": []
  },
  "kaggle": {
   "accelerator": "gpu",
   "dataSources": [
    {
     "datasetId": 4566153,
     "sourceId": 7798835,
     "sourceType": "datasetVersion"
    }
   ],
   "dockerImageVersionId": 30665,
   "isGpuEnabled": true,
   "isInternetEnabled": true,
   "language": "python",
   "sourceType": "notebook"
  },
  "kernelspec": {
   "display_name": "Python 3 (ipykernel)",
   "language": "python",
   "name": "python3"
  },
  "language_info": {
   "codemirror_mode": {
    "name": "ipython",
    "version": 3
   },
   "file_extension": ".py",
   "mimetype": "text/x-python",
   "name": "python",
   "nbconvert_exporter": "python",
   "pygments_lexer": "ipython3",
   "version": "3.12.4"
  },
  "papermill": {
   "default_parameters": {},
   "duration": 4793.694237,
   "end_time": "2024-03-01T12:45:03.552188",
   "environment_variables": {},
   "exception": true,
   "input_path": "__notebook__.ipynb",
   "output_path": "__notebook__.ipynb",
   "parameters": {},
   "start_time": "2024-03-01T11:25:09.857951",
   "version": "2.5.0"
  }
 },
 "nbformat": 4,
 "nbformat_minor": 4
}
