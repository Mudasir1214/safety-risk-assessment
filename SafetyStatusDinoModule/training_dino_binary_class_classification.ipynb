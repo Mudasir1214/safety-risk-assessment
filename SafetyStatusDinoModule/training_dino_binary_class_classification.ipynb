{
 "cells": [
  {
   "cell_type": "code",
   "execution_count": 1,
   "metadata": {
    "_cell_guid": "b1076dfc-b9ad-4769-8c92-a6c4dae69d19",
    "_uuid": "8f2839f25d086af736a60e9eeb907d3b93b6e0e5",
    "executionInfo": {
     "elapsed": 16090,
     "status": "ok",
     "timestamp": 1721109270678,
     "user": {
      "displayName": "Gan Project",
      "userId": "10714615017816106068"
     },
     "user_tz": -300
    },
    "id": "4bJ2QZShGBWn"
   },
   "outputs": [],
   "source": [
    "import os\n",
    "import cv2\n",
    "import torch\n",
    "import numpy as np\n",
    "from tqdm import tqdm\n",
    "\n",
    "from PIL import Image\n",
    "import pandas as pd\n",
    "import seaborn as sns\n",
    "import matplotlib.pyplot as plt\n",
    "\n",
    "from sklearn.decomposition import PCA\n",
    "from sklearn.preprocessing import MinMaxScaler\n",
    "from sklearn.metrics import classification_report, confusion_matrix\n",
    "\n",
    "\n",
    "import torch\n",
    "import torch.nn as nn\n",
    "import torch.optim as optim\n",
    "from torch.optim import lr_scheduler\n",
    "from torch.utils.data import DataLoader\n",
    "\n",
    "import torchvision\n",
    "from torchvision import datasets, models, transforms"
   ]
  },
  {
   "cell_type": "markdown",
   "metadata": {
    "execution": {
     "iopub.execute_input": "2023-08-06T08:54:27.44634Z",
     "iopub.status.busy": "2023-08-06T08:54:27.445963Z",
     "iopub.status.idle": "2023-08-06T08:54:27.451429Z",
     "shell.execute_reply": "2023-08-06T08:54:27.450365Z",
     "shell.execute_reply.started": "2023-08-06T08:54:27.446309Z"
    },
    "id": "kVpChfJBGBWr"
   },
   "source": [
    "## Device"
   ]
  },
  {
   "cell_type": "code",
   "execution_count": 2,
   "metadata": {
    "colab": {
     "base_uri": "https://localhost:8080/"
    },
    "executionInfo": {
     "elapsed": 6,
     "status": "ok",
     "timestamp": 1721109270679,
     "user": {
      "displayName": "Gan Project",
      "userId": "10714615017816106068"
     },
     "user_tz": -300
    },
    "id": "M5zkIvmMGBWs",
    "outputId": "d7e5de04-c1ca-477a-8476-70fb603f7084"
   },
   "outputs": [
    {
     "data": {
      "text/plain": [
       "device(type='cpu')"
      ]
     },
     "execution_count": 2,
     "metadata": {},
     "output_type": "execute_result"
    }
   ],
   "source": [
    "if torch.cuda.is_available():\n",
    "    device = torch.device('cuda')\n",
    "elif torch.backends.mps.is_available():\n",
    "    device = torch.device('mps')\n",
    "else:\n",
    "    device = torch.device('cpu')\n",
    "\n",
    "device"
   ]
  },
  {
   "cell_type": "code",
   "execution_count": 3,
   "metadata": {
    "colab": {
     "base_uri": "https://localhost:8080/"
    },
    "executionInfo": {
     "elapsed": 3915,
     "status": "ok",
     "timestamp": 1721109274591,
     "user": {
      "displayName": "Gan Project",
      "userId": "10714615017816106068"
     },
     "user_tz": -300
    },
    "id": "N32gID72GBWt",
    "outputId": "1a592ade-04ae-411e-c2aa-5960b117a42b"
   },
   "outputs": [
    {
     "name": "stderr",
     "output_type": "stream",
     "text": [
      "Using cache found in C:\\Users\\Mudasir Hussain/.cache\\torch\\hub\\facebookresearch_dinov2_main\n",
      "C:\\Users\\Mudasir Hussain/.cache\\torch\\hub\\facebookresearch_dinov2_main\\dinov2\\layers\\swiglu_ffn.py:51: UserWarning: xFormers is not available (SwiGLU)\n",
      "  warnings.warn(\"xFormers is not available (SwiGLU)\")\n",
      "C:\\Users\\Mudasir Hussain/.cache\\torch\\hub\\facebookresearch_dinov2_main\\dinov2\\layers\\attention.py:33: UserWarning: xFormers is not available (Attention)\n",
      "  warnings.warn(\"xFormers is not available (Attention)\")\n",
      "C:\\Users\\Mudasir Hussain/.cache\\torch\\hub\\facebookresearch_dinov2_main\\dinov2\\layers\\block.py:40: UserWarning: xFormers is not available (Block)\n",
      "  warnings.warn(\"xFormers is not available (Block)\")\n"
     ]
    }
   ],
   "source": [
    "dinov2_vits14 = torch.hub.load('facebookresearch/dinov2', 'dinov2_vits14')\n",
    "dinov2_vits14 = dinov2_vits14.to(device)"
   ]
  },
  {
   "cell_type": "code",
   "execution_count": 4,
   "metadata": {},
   "outputs": [
    {
     "name": "stdout",
     "output_type": "stream",
     "text": [
      " Volume in drive E is DATA\n",
      " Volume Serial Number is B867-DA30\n",
      "\n",
      " Directory of E:\\[1]-Cascade learning-Unsafe behavior of cranes\\ml_mo\\safety_status_classification_module\\classification\n",
      "\n",
      "22/09/2024  12:36 pm    <DIR>          .\n",
      "20/09/2024  11:30 am    <DIR>          ..\n",
      "20/09/2024  12:04 pm    <DIR>          .ipynb_checkpoints\n",
      "20/09/2024  11:41 am    <DIR>          classification_data\n",
      "20/09/2024  12:15 pm    <DIR>          classification_dataset\n",
      "10/08/2024  05:10 pm            53,006 confusion_matrix.png\n",
      "10/08/2024  05:11 pm            79,416 dino_classification_results.ipynb\n",
      "22/09/2024  12:13 pm            73,165 dino_classification_training.ipynb\n",
      "19/07/2024  04:12 am        88,688,561 dino_model.pth\n",
      "20/07/2024  12:33 pm        88,725,096 dino_model_.pth\n",
      "20/07/2024  12:33 pm        88,725,279 dino_model_1.pth\n",
      "22/09/2024  12:36 pm        88,729,266 dino_model_epoch2.pth\n",
      "22/09/2024  12:36 pm        88,729,449 dino_model_epoch22.pth\n",
      "02/08/2024  11:15 am            77,176 tower_crane_vit.ipynb\n",
      "02/08/2024  11:17 am            65,788 VIT_Mobile_crane.ipynb\n",
      "01/08/2024  07:51 am       343,307,362 vit_mobile_crane_activity_model.pth\n",
      "31/07/2024  07:39 pm       344,078,704 vit_tower_crane_activity_model.pth\n",
      "              12 File(s)  1,131,332,268 bytes\n",
      "               5 Dir(s)  1,587,540,934,656 bytes free\n"
     ]
    }
   ],
   "source": [
    "ls"
   ]
  },
  {
   "cell_type": "code",
   "execution_count": 32,
   "metadata": {},
   "outputs": [
    {
     "name": "stdout",
     "output_type": "stream",
     "text": [
      "Training images: 16107\n",
      "Testing images: 4027\n"
     ]
    }
   ],
   "source": [
    "import os\n",
    "import random\n",
    "import numpy as np\n",
    "from sklearn.model_selection import train_test_split\n",
    "from torchvision import datasets, transforms\n",
    "\n",
    "# Set a seed for reproducibility\n",
    "seed_value = 42\n",
    "random.seed(seed_value)\n",
    "np.random.seed(seed_value)\n",
    "\n",
    "data_transforms = {\n",
    "    'train': transforms.Compose([\n",
    "        transforms.Resize((224, 224)),  \n",
    "        transforms.RandomHorizontalFlip(),\n",
    "        transforms.ToTensor(),\n",
    "        transforms.Normalize([0.485, 0.456, 0.406], [0.229, 0.224, 0.225])\n",
    "    ]),\n",
    "    'test': transforms.Compose([\n",
    "        transforms.Resize((224, 224)),  \n",
    "        transforms.ToTensor(),\n",
    "        transforms.Normalize([0.485, 0.456, 0.406], [0.229, 0.224, 0.225])\n",
    "    ]),\n",
    "}\n",
    "\n",
    "def collect_images(base_path, label):\n",
    "    images = []\n",
    "    for folder in os.listdir(base_path):\n",
    "        folder_path = os.path.join(base_path, folder)\n",
    "        i=0\n",
    "        for img_file in os.listdir(folder_path):\n",
    "            if img_file.endswith(('.jpg', '.jpeg', '.png')):  # Add more extensions if needed\n",
    "                images.append((os.path.join(folder_path, img_file), label))\n",
    "                \n",
    "    return images\n",
    "\n",
    "# Collect images from both directories\n",
    "safe_images = collect_images('classification_data/mobile_crane/safe', label=0)\n",
    "unsafe_images = collect_images('classification_data/mobile_crane/unsafe', label=1)\n",
    "safe_images += collect_images('classification_data/tower_crane/safe', label=0)\n",
    "unsafe_images += collect_images('classification_data/tower_crane/unsafe', label=1)\n",
    "\n",
    "# Combine images and split into train/test\n",
    "all_images = safe_images + unsafe_images\n",
    "train_images, test_images = train_test_split(all_images, test_size=0.2, random_state=seed_value)\n",
    "\n",
    "# Print out the number of images in each set\n",
    "print(f\"Training images: {len(train_images)}\")\n",
    "print(f\"Testing images: {len(test_images)}\")\n"
   ]
  },
  {
   "cell_type": "markdown",
   "metadata": {
    "id": "6EVqORnqGBWw"
   },
   "source": [
    "## Prepare Dataset"
   ]
  },
  {
   "cell_type": "code",
   "execution_count": 33,
   "metadata": {
    "execution": {
     "iopub.execute_input": "2023-08-06T08:58:35.858181Z",
     "iopub.status.busy": "2023-08-06T08:58:35.85782Z",
     "iopub.status.idle": "2023-08-06T08:58:35.865196Z",
     "shell.execute_reply": "2023-08-06T08:58:35.864031Z",
     "shell.execute_reply.started": "2023-08-06T08:58:35.858149Z"
    },
    "executionInfo": {
     "elapsed": 376,
     "status": "ok",
     "timestamp": 1721109522431,
     "user": {
      "displayName": "Gan Project",
      "userId": "10714615017816106068"
     },
     "user_tz": -300
    },
    "id": "kDTssl8xGBWw"
   },
   "outputs": [
    {
     "name": "stdout",
     "output_type": "stream",
     "text": [
      "Training set size: 16107\n",
      "Test set size: 4027\n"
     ]
    }
   ],
   "source": [
    "class CustomImageDataset(datasets.VisionDataset):\n",
    "    def __init__(self, image_label_pairs, transform=None):\n",
    "        super().__init__(root=\"\", transform=transform)\n",
    "        self.image_paths = [img[0] for img in image_label_pairs]\n",
    "        self.labels = [img[1] for img in image_label_pairs]\n",
    "        self.transform = transform\n",
    "        self.classes = ['Safe', 'Unsafe']\n",
    "\n",
    "    def __len__(self):\n",
    "        return len(self.image_paths)\n",
    "\n",
    "    def __getitem__(self, idx):\n",
    "        img_path = self.image_paths[idx]\n",
    "        image = datasets.folder.default_loader(img_path)\n",
    "        \n",
    "        if self.transform:\n",
    "            image = self.transform(image)\n",
    "\n",
    "        label = self.labels[idx]\n",
    "        return image, label\n",
    "\n",
    "# Create datasets\n",
    "image_datasets = {\n",
    "    'train': CustomImageDataset(train_images, transform=data_transforms['train']),\n",
    "    'test': CustomImageDataset(test_images, transform=data_transforms['test'])\n",
    "}\n",
    "\n",
    "# Output the dataset sizes\n",
    "print(f\"Training set size: {len(image_datasets['train'])}\")\n",
    "print(f\"Test set size: {len(image_datasets['test'])}\")"
   ]
  },
  {
   "cell_type": "code",
   "execution_count": 34,
   "metadata": {},
   "outputs": [
    {
     "data": {
      "text/plain": [
       "{'train': Dataset CustomImageDataset\n",
       "     Number of datapoints: 16107\n",
       "     Root location: \n",
       "     StandardTransform\n",
       " Transform: Compose(\n",
       "                Resize(size=(224, 224), interpolation=bilinear, max_size=None, antialias=True)\n",
       "                RandomHorizontalFlip(p=0.5)\n",
       "                ToTensor()\n",
       "                Normalize(mean=[0.485, 0.456, 0.406], std=[0.229, 0.224, 0.225])\n",
       "            ),\n",
       " 'test': Dataset CustomImageDataset\n",
       "     Number of datapoints: 4027\n",
       "     Root location: \n",
       "     StandardTransform\n",
       " Transform: Compose(\n",
       "                Resize(size=(224, 224), interpolation=bilinear, max_size=None, antialias=True)\n",
       "                ToTensor()\n",
       "                Normalize(mean=[0.485, 0.456, 0.406], std=[0.229, 0.224, 0.225])\n",
       "            )}"
      ]
     },
     "execution_count": 34,
     "metadata": {},
     "output_type": "execute_result"
    }
   ],
   "source": [
    "image_datasets"
   ]
  },
  {
   "cell_type": "code",
   "execution_count": 35,
   "metadata": {
    "colab": {
     "base_uri": "https://localhost:8080/"
    },
    "execution": {
     "iopub.execute_input": "2023-08-06T09:05:35.483169Z",
     "iopub.status.busy": "2023-08-06T09:05:35.482702Z",
     "iopub.status.idle": "2023-08-06T09:05:35.493942Z",
     "shell.execute_reply": "2023-08-06T09:05:35.492873Z",
     "shell.execute_reply.started": "2023-08-06T09:05:35.483128Z"
    },
    "executionInfo": {
     "elapsed": 376,
     "status": "ok",
     "timestamp": 1721109558530,
     "user": {
      "displayName": "Gan Project",
      "userId": "10714615017816106068"
     },
     "user_tz": -300
    },
    "id": "hsAQ9hc6GBWx",
    "outputId": "78964634-771d-4470-a425-77c89b9e99cd"
   },
   "outputs": [],
   "source": [
    "batch_size = 16\n",
    "num_workers = 4\n",
    "data_loaders = {x: DataLoader(image_datasets[x], shuffle=True, batch_size=batch_size, num_workers=0)\n",
    "                for x in ['train', 'test']}\n"
   ]
  },
  {
   "cell_type": "code",
   "execution_count": 36,
   "metadata": {},
   "outputs": [
    {
     "name": "stdout",
     "output_type": "stream",
     "text": [
      "torch.Size([16, 3, 224, 224])\n",
      "tensor([1, 0, 0, 1, 1, 1, 0, 1, 0, 0, 0, 0, 0, 0, 1, 0])\n"
     ]
    }
   ],
   "source": [
    "for img, label in data_loaders['train']:\n",
    "    print(img.shape)\n",
    "    print(label)\n",
    "    break"
   ]
  },
  {
   "cell_type": "code",
   "execution_count": 37,
   "metadata": {
    "colab": {
     "base_uri": "https://localhost:8080/"
    },
    "execution": {
     "iopub.execute_input": "2023-08-06T09:05:38.305247Z",
     "iopub.status.busy": "2023-08-06T09:05:38.304887Z",
     "iopub.status.idle": "2023-08-06T09:05:38.31252Z",
     "shell.execute_reply": "2023-08-06T09:05:38.311488Z",
     "shell.execute_reply.started": "2023-08-06T09:05:38.305214Z"
    },
    "executionInfo": {
     "elapsed": 381,
     "status": "ok",
     "timestamp": 1721109564113,
     "user": {
      "displayName": "Gan Project",
      "userId": "10714615017816106068"
     },
     "user_tz": -300
    },
    "id": "a9DWTZODGBWx",
    "outputId": "73d8d962-a7ee-418b-daeb-178f6ce2d132"
   },
   "outputs": [
    {
     "data": {
      "text/plain": [
       "['Safe', 'Unsafe']"
      ]
     },
     "execution_count": 37,
     "metadata": {},
     "output_type": "execute_result"
    }
   ],
   "source": [
    "class_names = image_datasets['train'].classes\n",
    "class_names"
   ]
  },
  {
   "cell_type": "markdown",
   "metadata": {
    "id": "KL4-XApAGBWx"
   },
   "source": [
    "## Model"
   ]
  },
  {
   "cell_type": "code",
   "execution_count": 38,
   "metadata": {
    "execution": {
     "iopub.execute_input": "2023-08-06T09:05:40.5865Z",
     "iopub.status.busy": "2023-08-06T09:05:40.58612Z",
     "iopub.status.idle": "2023-08-06T09:05:40.602174Z",
     "shell.execute_reply": "2023-08-06T09:05:40.601153Z",
     "shell.execute_reply.started": "2023-08-06T09:05:40.586459Z"
    },
    "executionInfo": {
     "elapsed": 385,
     "status": "ok",
     "timestamp": 1721109566940,
     "user": {
      "displayName": "Gan Project",
      "userId": "10714615017816106068"
     },
     "user_tz": -300
    },
    "id": "AZtgZTIEGBWx"
   },
   "outputs": [],
   "source": [
    "class DinoVisionTransformerClassifier(nn.Module):\n",
    "    def __init__(self):\n",
    "        super(DinoVisionTransformerClassifier, self).__init__()\n",
    "        self.transformer = dinov2_vits14\n",
    "        self.classifier = nn.Sequential(\n",
    "            nn.Linear(384, 256),\n",
    "            nn.ReLU(),\n",
    "            nn.Linear(256, 1)\n",
    "        )\n",
    "\n",
    "    def forward(self, x):\n",
    "        x = self.transformer(x)\n",
    "        x = self.transformer.norm(x)\n",
    "        x = self.classifier(x)\n",
    "        x = torch.sigmoid(x)\n",
    "        return x\n",
    "\n",
    "model = DinoVisionTransformerClassifier()\n",
    "model = model.to(device)"
   ]
  },
  {
   "cell_type": "code",
   "execution_count": 39,
   "metadata": {},
   "outputs": [
    {
     "data": {
      "text/plain": [
       "DinoVisionTransformerClassifier(\n",
       "  (transformer): DinoVisionTransformer(\n",
       "    (patch_embed): PatchEmbed(\n",
       "      (proj): Conv2d(3, 384, kernel_size=(14, 14), stride=(14, 14))\n",
       "      (norm): Identity()\n",
       "    )\n",
       "    (blocks): ModuleList(\n",
       "      (0-11): 12 x NestedTensorBlock(\n",
       "        (norm1): LayerNorm((384,), eps=1e-06, elementwise_affine=True)\n",
       "        (attn): MemEffAttention(\n",
       "          (qkv): Linear(in_features=384, out_features=1152, bias=True)\n",
       "          (attn_drop): Dropout(p=0.0, inplace=False)\n",
       "          (proj): Linear(in_features=384, out_features=384, bias=True)\n",
       "          (proj_drop): Dropout(p=0.0, inplace=False)\n",
       "        )\n",
       "        (ls1): LayerScale()\n",
       "        (drop_path1): Identity()\n",
       "        (norm2): LayerNorm((384,), eps=1e-06, elementwise_affine=True)\n",
       "        (mlp): Mlp(\n",
       "          (fc1): Linear(in_features=384, out_features=1536, bias=True)\n",
       "          (act): GELU(approximate='none')\n",
       "          (fc2): Linear(in_features=1536, out_features=384, bias=True)\n",
       "          (drop): Dropout(p=0.0, inplace=False)\n",
       "        )\n",
       "        (ls2): LayerScale()\n",
       "        (drop_path2): Identity()\n",
       "      )\n",
       "    )\n",
       "    (norm): LayerNorm((384,), eps=1e-06, elementwise_affine=True)\n",
       "    (head): Identity()\n",
       "  )\n",
       "  (classifier): Sequential(\n",
       "    (0): Linear(in_features=384, out_features=256, bias=True)\n",
       "    (1): ReLU()\n",
       "    (2): Linear(in_features=256, out_features=1, bias=True)\n",
       "  )\n",
       ")"
      ]
     },
     "execution_count": 39,
     "metadata": {},
     "output_type": "execute_result"
    }
   ],
   "source": [
    "model"
   ]
  },
  {
   "cell_type": "code",
   "execution_count": 40,
   "metadata": {
    "execution": {
     "iopub.execute_input": "2023-08-06T09:05:42.733465Z",
     "iopub.status.busy": "2023-08-06T09:05:42.733091Z",
     "iopub.status.idle": "2023-08-06T09:05:42.742539Z",
     "shell.execute_reply": "2023-08-06T09:05:42.741505Z",
     "shell.execute_reply.started": "2023-08-06T09:05:42.733415Z"
    },
    "executionInfo": {
     "elapsed": 2,
     "status": "ok",
     "timestamp": 1721109568852,
     "user": {
      "displayName": "Gan Project",
      "userId": "10714615017816106068"
     },
     "user_tz": -300
    },
    "id": "Wz0H_OC7GBWx"
   },
   "outputs": [],
   "source": [
    "criterion = nn.BCELoss()\n",
    "optimizer = optim.Adam(model.parameters(), lr=0.0001)"
   ]
  },
  {
   "cell_type": "code",
   "execution_count": 41,
   "metadata": {},
   "outputs": [
    {
     "name": "stdout",
     "output_type": "stream",
     "text": [
      "torch.Size([16, 1])\n"
     ]
    }
   ],
   "source": [
    "input_data = torch.randn(16, 3, 224, 224)\n",
    "out=model(input_data)\n",
    "print(out.shape)"
   ]
  },
  {
   "cell_type": "code",
   "execution_count": 42,
   "metadata": {},
   "outputs": [
    {
     "name": "stdout",
     "output_type": "stream",
     "text": [
      "Total trainable parameters: 22155393\n"
     ]
    }
   ],
   "source": [
    "total_params = sum(p.numel() for p in model.parameters() if p.requires_grad)\n",
    "print(f\"Total trainable parameters: {total_params}\")"
   ]
  },
  {
   "cell_type": "code",
   "execution_count": 43,
   "metadata": {
    "colab": {
     "base_uri": "https://localhost:8080/"
    },
    "execution": {
     "iopub.execute_input": "2023-08-06T09:05:44.49019Z",
     "iopub.status.busy": "2023-08-06T09:05:44.489827Z",
     "iopub.status.idle": "2023-08-06T09:11:20.224991Z",
     "shell.execute_reply": "2023-08-06T09:11:20.223115Z",
     "shell.execute_reply.started": "2023-08-06T09:05:44.490159Z"
    },
    "id": "Jb919TLkGBWy",
    "outputId": "2a6f406e-6ecc-4919-bbab-1610c0dbbfc0"
   },
   "outputs": [],
   "source": [
    "from sklearn.metrics import f1_score\n",
    "num_epoch = 20\n",
    "\n",
    "def calculate_score(labels, predictions):\n",
    "\n",
    "    # Calculate TP, TN, FP, FN\n",
    "    TP = ((predictions == 1) & (labels == 1)).sum().item()\n",
    "    TN = ((predictions == 0) & (labels == 0)).sum().item()\n",
    "    FP = ((predictions == 1) & (labels == 0)).sum().item()\n",
    "    FN = ((predictions == 0) & (labels == 1)).sum().item()\n",
    "\n",
    "    # Calculate precision and recall\n",
    "    precision = TP / (TP + FP) if (TP + FP) > 0 else 0\n",
    "    recall = TP / (TP + FN) if (TP + FN) > 0 else 0\n",
    "\n",
    "    # Calculate F1 score\n",
    "    f1 = 2 * (precision * recall) / (precision + recall) if (precision + recall) > 0 else 0\n",
    "    accuracy = (TP + TN) / (TP + TN + FP + FN) if (TP + TN + FP + FN) > 0 else 0\n",
    "    return f1,accuracy"
   ]
  },
  {
   "cell_type": "code",
   "execution_count": 44,
   "metadata": {},
   "outputs": [],
   "source": [
    "model_load_path = \"dino_model_1.pth\"\n",
    "model = torch.load(model_load_path)"
   ]
  },
  {
   "cell_type": "code",
   "execution_count": 45,
   "metadata": {},
   "outputs": [
    {
     "data": {
      "text/plain": [
       "DinoVisionTransformerClassifier(\n",
       "  (transformer): DinoVisionTransformer(\n",
       "    (patch_embed): PatchEmbed(\n",
       "      (proj): Conv2d(3, 384, kernel_size=(14, 14), stride=(14, 14))\n",
       "      (norm): Identity()\n",
       "    )\n",
       "    (blocks): ModuleList(\n",
       "      (0-11): 12 x NestedTensorBlock(\n",
       "        (norm1): LayerNorm((384,), eps=1e-06, elementwise_affine=True)\n",
       "        (attn): MemEffAttention(\n",
       "          (qkv): Linear(in_features=384, out_features=1152, bias=True)\n",
       "          (attn_drop): Dropout(p=0.0, inplace=False)\n",
       "          (proj): Linear(in_features=384, out_features=384, bias=True)\n",
       "          (proj_drop): Dropout(p=0.0, inplace=False)\n",
       "        )\n",
       "        (ls1): LayerScale()\n",
       "        (drop_path1): Identity()\n",
       "        (norm2): LayerNorm((384,), eps=1e-06, elementwise_affine=True)\n",
       "        (mlp): Mlp(\n",
       "          (fc1): Linear(in_features=384, out_features=1536, bias=True)\n",
       "          (act): GELU(approximate='none')\n",
       "          (fc2): Linear(in_features=1536, out_features=384, bias=True)\n",
       "          (drop): Dropout(p=0.0, inplace=False)\n",
       "        )\n",
       "        (ls2): LayerScale()\n",
       "        (drop_path2): Identity()\n",
       "      )\n",
       "    )\n",
       "    (norm): LayerNorm((384,), eps=1e-06, elementwise_affine=True)\n",
       "    (head): Identity()\n",
       "  )\n",
       "  (classifier): Sequential(\n",
       "    (0): Linear(in_features=384, out_features=256, bias=True)\n",
       "    (1): ReLU()\n",
       "    (2): Linear(in_features=256, out_features=1, bias=True)\n",
       "  )\n",
       ")"
      ]
     },
     "execution_count": 45,
     "metadata": {},
     "output_type": "execute_result"
    }
   ],
   "source": [
    "model"
   ]
  },
  {
   "cell_type": "code",
   "execution_count": 46,
   "metadata": {
    "execution": {
     "iopub.execute_input": "2023-08-06T09:18:54.027463Z",
     "iopub.status.busy": "2023-08-06T09:18:54.02707Z",
     "iopub.status.idle": "2023-08-06T09:18:54.883392Z",
     "shell.execute_reply": "2023-08-06T09:18:54.882188Z",
     "shell.execute_reply.started": "2023-08-06T09:18:54.027416Z"
    },
    "id": "r9VskZySGBWy"
   },
   "outputs": [],
   "source": [
    "correct = 0\n",
    "total = 0\n",
    "test_predicted = []\n",
    "test_labels = []\n",
    "\n",
    "\n",
    "model.eval()\n",
    "\n",
    "with torch.no_grad():\n",
    "    for features, labels in data_loaders[\"test\"]:\n",
    "        features = features.to(device)\n",
    "        labels = labels.to(device).float() \n",
    "        outputs = model(features)\n",
    "\n",
    "        # Convert outputs to binary predictions\n",
    "        predicted = (outputs > 0.5).float()\n",
    "        total += labels.size(0)\n",
    "\n",
    "        test_labels += labels.cpu().numpy().tolist()\n",
    "        test_predicted += predicted.cpu().numpy().tolist()\n"
   ]
  },
  {
   "cell_type": "code",
   "execution_count": 47,
   "metadata": {},
   "outputs": [
    {
     "name": "stdout",
     "output_type": "stream",
     "text": [
      "F1 Score: 0.9626648781578357\n",
      "Accuracy: 0.9585299230196176\n"
     ]
    }
   ],
   "source": [
    "from sklearn.metrics import f1_score, accuracy_score\n",
    "import numpy as np\n",
    "\n",
    "# Given data\n",
    "labels = np.array(test_labels)\n",
    "predictions = np.array(test_predicted)\n",
    "\n",
    "# Flatten predictions if they are in a 2D array\n",
    "predictions = predictions.flatten()\n",
    "\n",
    "# Calculate F1 Score\n",
    "f1 = f1_score(labels, predictions)\n",
    "print(f\"F1 Score: {f1}\")\n",
    "\n",
    "# Calculate Accuracy\n",
    "accuracy = accuracy_score(labels, predictions)\n",
    "print(f\"Accuracy: {accuracy}\")\n",
    "\n",
    "\n"
   ]
  },
  {
   "cell_type": "code",
   "execution_count": 54,
   "metadata": {},
   "outputs": [
    {
     "name": "stdout",
     "output_type": "stream",
     "text": [
      "Overall Precision: 0.96\n",
      "Overall Recall: 0.96\n"
     ]
    }
   ],
   "source": [
    "report = classification_report(test_labels, test_predicted, target_names=class_names, output_dict=True)\n",
    "\n",
    "# Extract overall precision and recall\n",
    "overall_precision = report['weighted avg']['precision']\n",
    "overall_recall = report['weighted avg']['recall']\n",
    "\n",
    "print(f\"Overall Precision: {overall_precision:.2f}\")\n",
    "print(f\"Overall Recall: {overall_recall:.2f}\")"
   ]
  },
  {
   "cell_type": "markdown",
   "metadata": {
    "id": "ZjoGcFHFGBWy"
   },
   "source": [
    "## Report"
   ]
  },
  {
   "cell_type": "code",
   "execution_count": 48,
   "metadata": {
    "execution": {
     "iopub.execute_input": "2023-08-06T09:20:18.194992Z",
     "iopub.status.busy": "2023-08-06T09:20:18.194325Z",
     "iopub.status.idle": "2023-08-06T09:20:18.214268Z",
     "shell.execute_reply": "2023-08-06T09:20:18.213019Z",
     "shell.execute_reply.started": "2023-08-06T09:20:18.194955Z"
    },
    "id": "7BmQGrREGBWy"
   },
   "outputs": [
    {
     "name": "stdout",
     "output_type": "stream",
     "text": [
      "              precision    recall  f1-score   support\n",
      "\n",
      "        Safe       0.97      0.93      0.95      1829\n",
      "      Unsafe       0.95      0.98      0.96      2198\n",
      "\n",
      "    accuracy                           0.96      4027\n",
      "   macro avg       0.96      0.96      0.96      4027\n",
      "weighted avg       0.96      0.96      0.96      4027\n",
      "\n"
     ]
    }
   ],
   "source": [
    "print(classification_report(test_labels, test_predicted, target_names=class_names))"
   ]
  },
  {
   "cell_type": "code",
   "execution_count": 49,
   "metadata": {
    "execution": {
     "iopub.execute_input": "2023-08-06T09:21:09.81042Z",
     "iopub.status.busy": "2023-08-06T09:21:09.810029Z",
     "iopub.status.idle": "2023-08-06T09:21:09.847701Z",
     "shell.execute_reply": "2023-08-06T09:21:09.846408Z",
     "shell.execute_reply.started": "2023-08-06T09:21:09.810387Z"
    },
    "id": "Dp_LMK6ZGBWy"
   },
   "outputs": [
    {
     "data": {
      "text/html": [
       "<div>\n",
       "<style scoped>\n",
       "    .dataframe tbody tr th:only-of-type {\n",
       "        vertical-align: middle;\n",
       "    }\n",
       "\n",
       "    .dataframe tbody tr th {\n",
       "        vertical-align: top;\n",
       "    }\n",
       "\n",
       "    .dataframe thead th {\n",
       "        text-align: right;\n",
       "    }\n",
       "</style>\n",
       "<table border=\"1\" class=\"dataframe\">\n",
       "  <thead>\n",
       "    <tr style=\"text-align: right;\">\n",
       "      <th></th>\n",
       "      <th>Safe</th>\n",
       "      <th>Unsafe</th>\n",
       "    </tr>\n",
       "  </thead>\n",
       "  <tbody>\n",
       "    <tr>\n",
       "      <th>Safe</th>\n",
       "      <td>1707</td>\n",
       "      <td>122</td>\n",
       "    </tr>\n",
       "    <tr>\n",
       "      <th>Unsafe</th>\n",
       "      <td>45</td>\n",
       "      <td>2153</td>\n",
       "    </tr>\n",
       "  </tbody>\n",
       "</table>\n",
       "</div>"
      ],
      "text/plain": [
       "        Safe  Unsafe\n",
       "Safe    1707     122\n",
       "Unsafe    45    2153"
      ]
     },
     "execution_count": 49,
     "metadata": {},
     "output_type": "execute_result"
    }
   ],
   "source": [
    "cm = confusion_matrix(test_labels, test_predicted)\n",
    "df_cm = pd.DataFrame(\n",
    "    cm,\n",
    "    index = class_names,\n",
    "    columns = class_names\n",
    ")\n",
    "df_cm"
   ]
  },
  {
   "cell_type": "code",
   "execution_count": 50,
   "metadata": {},
   "outputs": [
    {
     "data": {
      "image/png": "[encoded data removed]",
      "text/plain": [
       "<Figure size 576x432 with 2 Axes>"
      ]
     },
     "metadata": {
      "needs_background": "light"
     },
     "output_type": "display_data"
    }
   ],
   "source": [
    "import seaborn as sns\n",
    "import matplotlib.pyplot as plt\n",
    "import numpy as np\n",
    "\n",
    "def show_confusion_matrix(confusion_matrix):\n",
    "    total = np.sum(confusion_matrix)\n",
    "    percentages = (confusion_matrix / total) * 100\n",
    "    \n",
    "\n",
    "    plt.figure(figsize=(8, 6))\n",
    "    hmap = sns.heatmap(percentages, annot=True, fmt=\".2f\", cmap=\"Blues\", \n",
    "                      xticklabels=['Safe', 'Unsafe'], \n",
    "                      yticklabels=['Safe', 'Unsafe'])\n",
    "    \n",
    "    plt.ylabel(\"Ground Truth\")\n",
    "    plt.xlabel(\"Predicted\")\n",
    "    plt.title(\"Confusion Matrix (Percentages)\")\n",
    "    plt.show()\n",
    "\n",
    "\n",
    "confusion_matrix = np.array(df_cm)\n",
    "\n",
    "show_confusion_matrix(confusion_matrix)\n"
   ]
  },
  {
   "cell_type": "code",
   "execution_count": 97,
   "metadata": {},
   "outputs": [
    {
     "name": "stdout",
     "output_type": "stream",
     "text": [
      "Confusion matrix saved as confusion_matrix.png\n"
     ]
    },
    {
     "data": {
      "image/png": "[encoded data removed]",
      "text/plain": [
       "<Figure size 504x360 with 2 Axes>"
      ]
     },
     "metadata": {
      "needs_background": "light"
     },
     "output_type": "display_data"
    }
   ],
   "source": [
    "import seaborn as sns\n",
    "import matplotlib.pyplot as plt\n",
    "import numpy as np\n",
    "\n",
    "save_path = \"confusion_matrix.png\"\n",
    "\n",
    "def show_confusion_matrix(confusion_matrix):\n",
    "    row_sums = confusion_matrix.sum(axis=1, keepdims=True)\n",
    "    percentages = (confusion_matrix / row_sums) * 100\n",
    "\n",
    "    annotations = np.empty_like(confusion_matrix, dtype=object)\n",
    "    for i in range(confusion_matrix.shape[0]):\n",
    "        for j in range(confusion_matrix.shape[1]):\n",
    "            count = confusion_matrix[i, j]\n",
    "            percent = percentages[i, j]\n",
    "            annotations[i, j] = f\"{percent:.1f}\"\n",
    "\n",
    "    plt.figure(figsize=(7, 5))\n",
    "    heatmap = sns.heatmap(percentages, annot=annotations, fmt=\"\", cmap=\"Blues\",\n",
    "                         xticklabels=['Safe', 'Unsafe'],\n",
    "                         yticklabels=['Safe', 'Unsafe'],\n",
    "                         annot_kws={\"size\": 12, 'fontname': 'Times New Roman', \"weight\": 'bold'})\n",
    "    colorbar = heatmap.collections[0].colorbar\n",
    "    colorbar.ax.tick_params(labelsize=12, labelcolor='black', width=2, length=8)\n",
    "    colorbar.ax.yaxis.set_tick_params(size=8, width=1)\n",
    "\n",
    "    # Update the legend ticks to show 0% to 100% in increments of 20%\n",
    "    legend_ticks= [0, 20, 40, 60, 80, 100]\n",
    "    colorbar.set_ticks(legend_ticks)\n",
    "    colorbar.set_ticklabels([f\"{tick}%\" for tick in legend_ticks])\n",
    "\n",
    "    # Use FixedLocator to fix the warning\n",
    "    colorbar.ax.yaxis.set_major_locator(plt.FixedLocator(legend_ticks))\n",
    "    colorbar.ax.set_yticklabels(colorbar.ax.get_yticklabels(),\n",
    "                               fontdict={'fontsize': 12, 'fontweight': 'bold', 'fontname': 'Times New Roman'})\n",
    "\n",
    "    plt.xticks(fontsize=12, fontname='Times New Roman', fontweight='bold')\n",
    "    plt.yticks(fontsize=12, fontname='Times New Roman', fontweight='bold')\n",
    "    plt.ylabel(\"Ground Truth\", fontsize=12, fontname='Times New Roman', fontweight='bold')\n",
    "    plt.xlabel(\"Predicted\", fontsize=12, fontname='Times New Roman', fontweight='bold')\n",
    "    # plt.title(\"Confusion Matrix\", fontsize=14, fontweight='bold', fontname='Times New Roman')\n",
    "    plt.savefig(save_path, dpi=300, bbox_inches='tight')\n",
    "    print(f\"Confusion matrix saved as {save_path}\")\n",
    "\n",
    "confusion_matrix = np.array(df_cm)\n",
    "show_confusion_matrix(confusion_matrix)\n"
   ]
  },
  {
   "cell_type": "code",
   "execution_count": 52,
   "metadata": {},
   "outputs": [
    {
     "name": "stderr",
     "output_type": "stream",
     "text": [
      "No handles with labels found to put in legend.\n"
     ]
    },
    {
     "name": "stdout",
     "output_type": "stream",
     "text": [
      "Confusion matrix saved as confusion_matrix.png\n"
     ]
    },
    {
     "data": {
      "image/png": "[encoded data removed]",
      "text/plain": [
       "<Figure size 576x432 with 2 Axes>"
      ]
     },
     "metadata": {
      "needs_background": "light"
     },
     "output_type": "display_data"
    }
   ],
   "source": [
    "import seaborn as sns\n",
    "import matplotlib.pyplot as plt\n",
    "import pandas as pd  \n",
    "\n",
    "def show_confusion_matrix(confusion_matrix, save_path=None):\n",
    "    plt.figure(figsize=(8, 6))\n",
    "    hmap = sns.heatmap(confusion_matrix, annot=True, fmt=\"d\", cmap=\"Blues\")\n",
    "    plt.ylabel(\"Surface Ground Truth\")\n",
    "    plt.xlabel(\"Predicted Surface\")\n",
    "    plt.title(\"Confusion Matrix\")\n",
    "    plt.legend() \n",
    "\n",
    "    if save_path:\n",
    "        plt.savefig(save_path)\n",
    "        print(f\"Confusion matrix saved as {save_path}\")\n",
    "\n",
    "    plt.show()\n",
    "show_confusion_matrix(df_cm, save_path=\"confusion_matrix.png\")"
   ]
  },
  {
   "cell_type": "code",
   "execution_count": 53,
   "metadata": {},
   "outputs": [
    {
     "name": "stdout",
     "output_type": "stream",
     "text": [
      "Classification Report:\n",
      "               precision    recall  f1-score   support\n",
      "\n",
      "        Safe       0.97      0.93      0.95      1829\n",
      "      Unsafe       0.95      0.98      0.96      2198\n",
      "\n",
      "    accuracy                           0.96      4027\n",
      "   macro avg       0.96      0.96      0.96      4027\n",
      "weighted avg       0.96      0.96      0.96      4027\n",
      "\n"
     ]
    }
   ],
   "source": [
    "\n",
    "cr = classification_report(test_labels, test_predicted, target_names=['Safe', 'Unsafe'])\n",
    "\n",
    "# Print classification report\n",
    "print(\"Classification Report:\\n\", cr)\n"
   ]
  },
  {
   "cell_type": "code",
   "execution_count": null,
   "metadata": {},
   "outputs": [],
   "source": []
  }
 ],
 "metadata": {
  "colab": {
   "provenance": []
  },
  "kaggle": {
   "accelerator": "gpu",
   "dataSources": [
    {
     "datasetId": 3093062,
     "sourceId": 5324005,
     "sourceType": "datasetVersion"
    }
   ],
   "dockerImageVersionId": 30528,
   "isGpuEnabled": true,
   "isInternetEnabled": true,
   "language": "python",
   "sourceType": "notebook"
  },
  "kernelspec": {
   "display_name": "Python 3 (ipykernel)",
   "language": "python",
   "name": "python3"
  },
  "language_info": {
   "codemirror_mode": {
    "name": "ipython",
    "version": 3
   },
   "file_extension": ".py",
   "mimetype": "text/x-python",
   "name": "python",
   "nbconvert_exporter": "python",
   "pygments_lexer": "ipython3",
   "version": "3.12.3"
  }
 },
 "nbformat": 4,
 "nbformat_minor": 4
}
