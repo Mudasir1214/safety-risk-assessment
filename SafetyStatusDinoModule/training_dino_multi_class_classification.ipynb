{
 "cells": [
  {
   "cell_type": "code",
   "execution_count": 1,
   "metadata": {
    "_cell_guid": "b1076dfc-b9ad-4769-8c92-a6c4dae69d19",
    "_uuid": "8f2839f25d086af736a60e9eeb907d3b93b6e0e5",
    "executionInfo": {
     "elapsed": 16090,
     "status": "ok",
     "timestamp": 1721109270678,
     "user": {
      "displayName": "Gan Project",
      "userId": "10714615017816106068"
     },
     "user_tz": -300
    },
    "id": "4bJ2QZShGBWn"
   },
   "outputs": [],
   "source": [
    "import os\n",
    "import cv2\n",
    "import torch\n",
    "import numpy as np\n",
    "from tqdm import tqdm\n",
    "\n",
    "from PIL import Image\n",
    "import pandas as pd\n",
    "import seaborn as sns\n",
    "import matplotlib.pyplot as plt\n",
    "\n",
    "from sklearn.decomposition import PCA\n",
    "from sklearn.preprocessing import MinMaxScaler\n",
    "from sklearn.metrics import classification_report, confusion_matrix\n",
    "\n",
    "\n",
    "import torch\n",
    "import torch.nn as nn\n",
    "import torch.optim as optim\n",
    "from torch.optim import lr_scheduler\n",
    "from torch.utils.data import DataLoader\n",
    "\n",
    "import torchvision\n",
    "from torchvision import datasets, models, transforms"
   ]
  },
  {
   "cell_type": "markdown",
   "metadata": {
    "execution": {
     "iopub.execute_input": "2023-08-06T08:54:27.44634Z",
     "iopub.status.busy": "2023-08-06T08:54:27.445963Z",
     "iopub.status.idle": "2023-08-06T08:54:27.451429Z",
     "shell.execute_reply": "2023-08-06T08:54:27.450365Z",
     "shell.execute_reply.started": "2023-08-06T08:54:27.446309Z"
    },
    "id": "kVpChfJBGBWr"
   },
   "source": [
    "## Device"
   ]
  },
  {
   "cell_type": "code",
   "execution_count": 2,
   "metadata": {
    "colab": {
     "base_uri": "https://localhost:8080/"
    },
    "executionInfo": {
     "elapsed": 6,
     "status": "ok",
     "timestamp": 1721109270679,
     "user": {
      "displayName": "Gan Project",
      "userId": "10714615017816106068"
     },
     "user_tz": -300
    },
    "id": "M5zkIvmMGBWs",
    "outputId": "d7e5de04-c1ca-477a-8476-70fb603f7084"
   },
   "outputs": [
    {
     "data": {
      "text/plain": [
       "device(type='cpu')"
      ]
     },
     "execution_count": 2,
     "metadata": {},
     "output_type": "execute_result"
    }
   ],
   "source": [
    "if torch.cuda.is_available():\n",
    "    device = torch.device('cuda')\n",
    "elif torch.backends.mps.is_available():\n",
    "    device = torch.device('mps')\n",
    "else:\n",
    "    device = torch.device('cpu')\n",
    "\n",
    "device"
   ]
  },
  {
   "cell_type": "code",
   "execution_count": 3,
   "metadata": {
    "colab": {
     "base_uri": "https://localhost:8080/"
    },
    "executionInfo": {
     "elapsed": 3915,
     "status": "ok",
     "timestamp": 1721109274591,
     "user": {
      "displayName": "Gan Project",
      "userId": "10714615017816106068"
     },
     "user_tz": -300
    },
    "id": "N32gID72GBWt",
    "outputId": "1a592ade-04ae-411e-c2aa-5960b117a42b"
   },
   "outputs": [
    {
     "name": "stderr",
     "output_type": "stream",
     "text": [
      "Using cache found in C:\\Users\\Mudasir Hussain/.cache\\torch\\hub\\facebookresearch_dinov2_main\n",
      "C:\\Users\\Mudasir Hussain/.cache\\torch\\hub\\facebookresearch_dinov2_main\\dinov2\\layers\\swiglu_ffn.py:51: UserWarning: xFormers is not available (SwiGLU)\n",
      "  warnings.warn(\"xFormers is not available (SwiGLU)\")\n",
      "C:\\Users\\Mudasir Hussain/.cache\\torch\\hub\\facebookresearch_dinov2_main\\dinov2\\layers\\attention.py:33: UserWarning: xFormers is not available (Attention)\n",
      "  warnings.warn(\"xFormers is not available (Attention)\")\n",
      "C:\\Users\\Mudasir Hussain/.cache\\torch\\hub\\facebookresearch_dinov2_main\\dinov2\\layers\\block.py:40: UserWarning: xFormers is not available (Block)\n",
      "  warnings.warn(\"xFormers is not available (Block)\")\n"
     ]
    }
   ],
   "source": [
    "dinov2_vits14 = torch.hub.load('facebookresearch/dinov2', 'dinov2_vits14')\n",
    "dinov2_vits14 = dinov2_vits14.to(device)"
   ]
  },
  {
   "cell_type": "code",
   "execution_count": 4,
   "metadata": {},
   "outputs": [
    {
     "name": "stdout",
     "output_type": "stream",
     "text": [
      " Volume in drive E is DATA\n",
      " Volume Serial Number is B867-DA30\n",
      "\n",
      " Directory of E:\\[1]-Cascade learning-Unsafe behavior of cranes\\ml_mo\\safety_status_classification_module\\classification\n",
      "\n",
      "22/09/2024  10:19 am    <DIR>          .\n",
      "20/09/2024  11:30 am    <DIR>          ..\n",
      "20/09/2024  12:04 pm    <DIR>          .ipynb_checkpoints\n",
      "20/09/2024  11:41 am    <DIR>          classification_data\n",
      "20/09/2024  12:15 pm    <DIR>          classification_dataset\n",
      "10/08/2024  05:10 pm            53,006 confusion_matrix.png\n",
      "10/08/2024  05:11 pm            79,416 dino_classification_results.ipynb\n",
      "22/09/2024  10:19 am            70,838 dino_classification_training.ipynb\n",
      "19/07/2024  04:12 am        88,688,561 dino_model.pth\n",
      "20/07/2024  12:33 pm        88,725,096 dino_model_.pth\n",
      "20/07/2024  12:33 pm        88,725,279 dino_model_1.pth\n",
      "02/08/2024  11:15 am            77,176 tower_crane_vit.ipynb\n",
      "02/08/2024  11:17 am            65,788 VIT_Mobile_crane.ipynb\n",
      "01/08/2024  07:51 am       343,307,362 vit_mobile_crane_activity_model.pth\n",
      "31/07/2024  07:39 pm       344,078,704 vit_tower_crane_activity_model.pth\n",
      "              10 File(s)    953,871,226 bytes\n",
      "               5 Dir(s)  1,587,718,922,240 bytes free\n"
     ]
    }
   ],
   "source": [
    "ls"
   ]
  },
  {
   "cell_type": "code",
   "execution_count": 4,
   "metadata": {},
   "outputs": [
    {
     "name": "stdout",
     "output_type": "stream",
     "text": [
      "Training images: 18444\n",
      "Testing images: 4611\n"
     ]
    }
   ],
   "source": [
    "import os\n",
    "import random\n",
    "import numpy as np\n",
    "from sklearn.model_selection import train_test_split\n",
    "from torchvision import datasets, transforms\n",
    "\n",
    "# Set a seed for reproducibility\n",
    "seed_value = 42\n",
    "random.seed(seed_value)\n",
    "np.random.seed(seed_value)\n",
    "\n",
    "data_transforms = {\n",
    "    'train': transforms.Compose([\n",
    "        transforms.Resize((224, 224)),  \n",
    "        transforms.RandomHorizontalFlip(),\n",
    "        transforms.ToTensor(),\n",
    "        transforms.Normalize([0.485, 0.456, 0.406], [0.229, 0.224, 0.225])\n",
    "    ]),\n",
    "    'test': transforms.Compose([\n",
    "        transforms.Resize((224, 224)),  \n",
    "        transforms.ToTensor(),\n",
    "        transforms.Normalize([0.485, 0.456, 0.406], [0.229, 0.224, 0.225])\n",
    "    ]),\n",
    "}\n",
    "\n",
    "def collect_images(base_path, label):\n",
    "    images = []\n",
    "    for folder in os.listdir(base_path):\n",
    "        folder_path = os.path.join(base_path, folder)\n",
    "        i=0\n",
    "        for img_file in os.listdir(folder_path):\n",
    "            if img_file.endswith(('.jpg', '.jpeg', '.png')):  # Add more extensions if needed\n",
    "                images.append((os.path.join(folder_path, img_file), label))\n",
    "                \n",
    "    return images\n",
    "\n",
    "# Collect images from both directories\n",
    "safe_images = collect_images('classification_dataset/Mobile_crane/Safe operations', label=0)\n",
    "unsafe_images = collect_images('classification_dataset/Mobile_crane/Unsafe operations', label=1)\n",
    "near_miss_incident_images = collect_images('classification_dataset/Mobile_crane/Near miss incidents', label=2)\n",
    "incidents_images = collect_images('classification_dataset/Mobile_crane/Incidents', label=3)\n",
    "\n",
    "safe_images += collect_images('classification_dataset/Tower_crane/Safe operations', label=0)\n",
    "unsafe_images += collect_images('classification_dataset/Tower_crane/Unsafe operations', label=1)\n",
    "near_miss_incident_images += collect_images('classification_dataset/Tower_crane/Near miss incidents', label=2)\n",
    "incidents_images += collect_images('classification_dataset/Tower_crane/Incidents', label=3)\n",
    "\n",
    "\n",
    "# Combine images and split into train/test\n",
    "all_images = safe_images + unsafe_images + near_miss_incident_images + incidents_images\n",
    "train_images, test_images = train_test_split(all_images, test_size=0.2, random_state=seed_value)\n",
    "\n",
    "# Print out the number of images in each set\n",
    "print(f\"Training images: {len(train_images)}\")\n",
    "print(f\"Testing images: {len(test_images)}\")\n"
   ]
  },
  {
   "cell_type": "markdown",
   "metadata": {
    "id": "6EVqORnqGBWw"
   },
   "source": [
    "## Prepare Dataset"
   ]
  },
  {
   "cell_type": "code",
   "execution_count": 5,
   "metadata": {
    "executionInfo": {
     "elapsed": 376,
     "status": "ok",
     "timestamp": 1721109522431,
     "user": {
      "displayName": "Gan Project",
      "userId": "10714615017816106068"
     },
     "user_tz": -300
    },
    "id": "kDTssl8xGBWw"
   },
   "outputs": [
    {
     "name": "stdout",
     "output_type": "stream",
     "text": [
      "Training set size: 18444\n",
      "Test set size: 4611\n"
     ]
    }
   ],
   "source": [
    "class CustomImageDataset(datasets.VisionDataset):\n",
    "    def __init__(self, image_label_pairs, transform=None):\n",
    "        super().__init__(root=\"\", transform=transform)\n",
    "        self.image_paths = [img[0] for img in image_label_pairs]\n",
    "        self.labels = [img[1] for img in image_label_pairs]\n",
    "        self.transform = transform\n",
    "        self.classes = ['Safe Operations', 'Unsafe Operations', \"Near-Miss Incidents\", \"Incidents\"]\n",
    "\n",
    "    def __len__(self):\n",
    "        return len(self.image_paths)\n",
    "\n",
    "    def __getitem__(self, idx):\n",
    "        img_path = self.image_paths[idx]\n",
    "        image = datasets.folder.default_loader(img_path)\n",
    "        \n",
    "        if self.transform:\n",
    "            image = self.transform(image)\n",
    "\n",
    "        label = self.labels[idx]\n",
    "        return image, label\n",
    "\n",
    "# Create datasets\n",
    "image_datasets = {\n",
    "    'train': CustomImageDataset(train_images, transform=data_transforms['train']),\n",
    "    'test': CustomImageDataset(test_images, transform=data_transforms['test'])\n",
    "}\n",
    "\n",
    "# Output the dataset sizes\n",
    "print(f\"Training set size: {len(image_datasets['train'])}\")\n",
    "print(f\"Test set size: {len(image_datasets['test'])}\")"
   ]
  },
  {
   "cell_type": "code",
   "execution_count": 6,
   "metadata": {},
   "outputs": [
    {
     "data": {
      "text/plain": [
       "{'train': Dataset CustomImageDataset\n",
       "     Number of datapoints: 18444\n",
       "     Root location: \n",
       "     StandardTransform\n",
       " Transform: Compose(\n",
       "                Resize(size=(224, 224), interpolation=bilinear, max_size=None, antialias=True)\n",
       "                RandomHorizontalFlip(p=0.5)\n",
       "                ToTensor()\n",
       "                Normalize(mean=[0.485, 0.456, 0.406], std=[0.229, 0.224, 0.225])\n",
       "            ),\n",
       " 'test': Dataset CustomImageDataset\n",
       "     Number of datapoints: 4611\n",
       "     Root location: \n",
       "     StandardTransform\n",
       " Transform: Compose(\n",
       "                Resize(size=(224, 224), interpolation=bilinear, max_size=None, antialias=True)\n",
       "                ToTensor()\n",
       "                Normalize(mean=[0.485, 0.456, 0.406], std=[0.229, 0.224, 0.225])\n",
       "            )}"
      ]
     },
     "execution_count": 6,
     "metadata": {},
     "output_type": "execute_result"
    }
   ],
   "source": [
    "image_datasets"
   ]
  },
  {
   "cell_type": "code",
   "execution_count": 7,
   "metadata": {
    "colab": {
     "base_uri": "https://localhost:8080/"
    },
    "executionInfo": {
     "elapsed": 376,
     "status": "ok",
     "timestamp": 1721109558530,
     "user": {
      "displayName": "Gan Project",
      "userId": "10714615017816106068"
     },
     "user_tz": -300
    },
    "id": "hsAQ9hc6GBWx",
    "outputId": "78964634-771d-4470-a425-77c89b9e99cd"
   },
   "outputs": [],
   "source": [
    "batch_size = 16\n",
    "num_workers = 4\n",
    "data_loaders = {x: DataLoader(image_datasets[x], shuffle=True, batch_size=batch_size, num_workers=0)\n",
    "                for x in ['train', 'test']}\n"
   ]
  },
  {
   "cell_type": "code",
   "execution_count": 8,
   "metadata": {},
   "outputs": [
    {
     "name": "stdout",
     "output_type": "stream",
     "text": [
      "torch.Size([16, 3, 224, 224])\n",
      "tensor([3, 3, 3, 0, 0, 1, 0, 1, 0, 2, 3, 0, 1, 1, 3, 2])\n"
     ]
    }
   ],
   "source": [
    "for img, label in data_loaders['train']:\n",
    "    print(img.shape)\n",
    "    print(label)\n",
    "    break"
   ]
  },
  {
   "cell_type": "code",
   "execution_count": 9,
   "metadata": {
    "colab": {
     "base_uri": "https://localhost:8080/"
    },
    "executionInfo": {
     "elapsed": 381,
     "status": "ok",
     "timestamp": 1721109564113,
     "user": {
      "displayName": "Gan Project",
      "userId": "10714615017816106068"
     },
     "user_tz": -300
    },
    "id": "a9DWTZODGBWx",
    "outputId": "73d8d962-a7ee-418b-daeb-178f6ce2d132"
   },
   "outputs": [
    {
     "name": "stdout",
     "output_type": "stream",
     "text": [
      "['Safe Operations', 'Unsafe Operations', 'Near-Miss Incidents', 'Incidents']\n"
     ]
    },
    {
     "data": {
      "text/plain": [
       "4"
      ]
     },
     "execution_count": 9,
     "metadata": {},
     "output_type": "execute_result"
    }
   ],
   "source": [
    "class_names = image_datasets['train'].classes\n",
    "print(class_names)\n",
    "len(class_names)"
   ]
  },
  {
   "cell_type": "markdown",
   "metadata": {
    "id": "KL4-XApAGBWx"
   },
   "source": [
    "## Model multi-class classification"
   ]
  },
  {
   "cell_type": "code",
   "execution_count": 10,
   "metadata": {
    "executionInfo": {
     "elapsed": 385,
     "status": "ok",
     "timestamp": 1721109566940,
     "user": {
      "displayName": "Gan Project",
      "userId": "10714615017816106068"
     },
     "user_tz": -300
    },
    "id": "AZtgZTIEGBWx"
   },
   "outputs": [],
   "source": [
    "class DinoVisionTransformerClassifier(nn.Module):\n",
    "    def __init__(self, n_classes=1):\n",
    "        super(DinoVisionTransformerClassifier, self).__init__()\n",
    "        self.transformer = dinov2_vits14\n",
    "        self.classifier = nn.Sequential(\n",
    "            nn.Linear(384, 256),\n",
    "            nn.ReLU(),\n",
    "            nn.Linear(256, n_classes)\n",
    "        )\n",
    "\n",
    "    def forward(self, x):\n",
    "        x = self.transformer(x)\n",
    "        x = self.transformer.norm(x)\n",
    "        x = self.classifier(x)\n",
    "        # x = torch.softmax(x)\n",
    "        return x\n",
    "\n",
    "model = DinoVisionTransformerClassifier(n_classes=len(class_names))\n",
    "model = model.to(device)"
   ]
  },
  {
   "cell_type": "code",
   "execution_count": 11,
   "metadata": {
    "executionInfo": {
     "elapsed": 2,
     "status": "ok",
     "timestamp": 1721109568852,
     "user": {
      "displayName": "Gan Project",
      "userId": "10714615017816106068"
     },
     "user_tz": -300
    },
    "id": "Wz0H_OC7GBWx"
   },
   "outputs": [],
   "source": [
    "criterion = nn.CrossEntropyLoss()\n",
    "optimizer = optim.Adam(model.parameters(), lr=0.0001)"
   ]
  },
  {
   "cell_type": "code",
   "execution_count": 12,
   "metadata": {},
   "outputs": [
    {
     "name": "stdout",
     "output_type": "stream",
     "text": [
      "torch.Size([16, 4])\n"
     ]
    }
   ],
   "source": [
    "input_data = torch.randn(16, 3, 224, 224)\n",
    "out=model(input_data)\n",
    "print(out.shape)"
   ]
  },
  {
   "cell_type": "code",
   "execution_count": 14,
   "metadata": {},
   "outputs": [
    {
     "name": "stdout",
     "output_type": "stream",
     "text": [
      "Total trainable parameters: 22156164\n"
     ]
    }
   ],
   "source": [
    "total_params = sum(p.numel() for p in model.parameters() if p.requires_grad)\n",
    "print(f\"Total trainable parameters: {total_params}\")"
   ]
  },
  {
   "cell_type": "markdown",
   "metadata": {
    "id": "nhcBjK8IGBWx"
   },
   "source": [
    "## Train"
   ]
  },
  {
   "cell_type": "code",
   "execution_count": 13,
   "metadata": {},
   "outputs": [
    {
     "name": "stderr",
     "output_type": "stream",
     "text": [
      "Epoch [0/20]: 100%|█████████████████████████████████████████| 1153/1153 [54:59<00:00,  2.86s/it, acc=0.917, loss=0.461]\n"
     ]
    },
    {
     "name": "stdout",
     "output_type": "stream",
     "text": [
      "Epoch 1, F1 Score: 0.7256, Accuracy: 0.7272\n"
     ]
    },
    {
     "name": "stderr",
     "output_type": "stream",
     "text": [
      "Epoch [1/20]: 100%|█████████████████████████████████████████| 1153/1153 [52:38<00:00,  2.74s/it, acc=0.917, loss=0.115]\n"
     ]
    },
    {
     "name": "stdout",
     "output_type": "stream",
     "text": [
      "Epoch 2, F1 Score: 0.9201, Accuracy: 0.9202\n"
     ]
    },
    {
     "name": "stderr",
     "output_type": "stream",
     "text": [
      "Epoch [2/20]: 100%|████████████████████████████████████████████| 1153/1153 [52:56<00:00,  2.75s/it, acc=1, loss=0.0597]\n"
     ]
    },
    {
     "name": "stdout",
     "output_type": "stream",
     "text": [
      "Epoch 3, F1 Score: 0.9558, Accuracy: 0.9558\n"
     ]
    },
    {
     "name": "stderr",
     "output_type": "stream",
     "text": [
      "Epoch [3/20]: 100%|█████████████████████████████████████████████| 1153/1153 [52:56<00:00,  2.75s/it, acc=1, loss=0.012]\n"
     ]
    },
    {
     "name": "stdout",
     "output_type": "stream",
     "text": [
      "Epoch 4, F1 Score: 0.9653, Accuracy: 0.9653\n"
     ]
    },
    {
     "name": "stderr",
     "output_type": "stream",
     "text": [
      "Epoch [4/20]: 100%|█████████████████████████████████████████| 1153/1153 [53:29<00:00,  2.78s/it, acc=0.833, loss=0.439]\n"
     ]
    },
    {
     "name": "stdout",
     "output_type": "stream",
     "text": [
      "Epoch 5, F1 Score: 0.9719, Accuracy: 0.9719\n"
     ]
    },
    {
     "name": "stderr",
     "output_type": "stream",
     "text": [
      "Epoch [5/20]: 100%|██████████████████████████████████████████| 1153/1153 [54:49<00:00,  2.85s/it, acc=0.917, loss=0.11]\n"
     ]
    },
    {
     "name": "stdout",
     "output_type": "stream",
     "text": [
      "Epoch 6, F1 Score: 0.9767, Accuracy: 0.9767\n"
     ]
    },
    {
     "name": "stderr",
     "output_type": "stream",
     "text": [
      "Epoch [6/20]: 100%|████████████████████████████████████████████| 1153/1153 [54:45<00:00,  2.85s/it, acc=1, loss=0.0414]\n"
     ]
    },
    {
     "name": "stdout",
     "output_type": "stream",
     "text": [
      "Epoch 7, F1 Score: 0.9773, Accuracy: 0.9773\n"
     ]
    },
    {
     "name": "stderr",
     "output_type": "stream",
     "text": [
      "Epoch [7/20]: 100%|████████████████████████████████████████████| 1153/1153 [55:32<00:00,  2.89s/it, acc=1, loss=0.0268]\n"
     ]
    },
    {
     "name": "stdout",
     "output_type": "stream",
     "text": [
      "Epoch 8, F1 Score: 0.9834, Accuracy: 0.9834\n"
     ]
    },
    {
     "name": "stderr",
     "output_type": "stream",
     "text": [
      "Epoch [8/20]: 100%|███████████████████████████████████████████| 1153/1153 [56:17<00:00,  2.93s/it, acc=1, loss=0.00224]\n"
     ]
    },
    {
     "name": "stdout",
     "output_type": "stream",
     "text": [
      "Epoch 9, F1 Score: 0.9847, Accuracy: 0.9847\n"
     ]
    },
    {
     "name": "stderr",
     "output_type": "stream",
     "text": [
      "Epoch [9/20]: 100%|███████████████████████████████████████████| 1153/1153 [57:09<00:00,  2.97s/it, acc=1, loss=0.00649]\n"
     ]
    },
    {
     "name": "stdout",
     "output_type": "stream",
     "text": [
      "Epoch 10, F1 Score: 0.9863, Accuracy: 0.9863\n"
     ]
    },
    {
     "name": "stderr",
     "output_type": "stream",
     "text": [
      "Epoch [10/20]: 100%|██████████████████████████████████████████| 1153/1153 [56:31<00:00,  2.94s/it, acc=1, loss=0.00587]\n"
     ]
    },
    {
     "name": "stdout",
     "output_type": "stream",
     "text": [
      "Epoch 11, F1 Score: 0.9876, Accuracy: 0.9876\n"
     ]
    },
    {
     "name": "stderr",
     "output_type": "stream",
     "text": [
      "Epoch [11/20]: 100%|██████████████████████████████████████████| 1153/1153 [56:39<00:00,  2.95s/it, acc=1, loss=0.00761]\n"
     ]
    },
    {
     "name": "stdout",
     "output_type": "stream",
     "text": [
      "Epoch 12, F1 Score: 0.9886, Accuracy: 0.9886\n"
     ]
    },
    {
     "name": "stderr",
     "output_type": "stream",
     "text": [
      "Epoch [12/20]: 100%|█████████████████████████████████████████| 1153/1153 [57:17<00:00,  2.98s/it, acc=1, loss=0.000106]\n"
     ]
    },
    {
     "name": "stdout",
     "output_type": "stream",
     "text": [
      "Epoch 13, F1 Score: 0.9906, Accuracy: 0.9906\n"
     ]
    },
    {
     "name": "stderr",
     "output_type": "stream",
     "text": [
      "Epoch [13/20]: 100%|██████████████████████████████████████████| 1153/1153 [58:42<00:00,  3.06s/it, acc=1, loss=0.00683]\n"
     ]
    },
    {
     "name": "stdout",
     "output_type": "stream",
     "text": [
      "Epoch 14, F1 Score: 0.9862, Accuracy: 0.9862\n"
     ]
    },
    {
     "name": "stderr",
     "output_type": "stream",
     "text": [
      "Epoch [14/20]: 100%|██████████████████████████████████████████| 1153/1153 [58:32<00:00,  3.05s/it, acc=1, loss=0.00231]\n"
     ]
    },
    {
     "name": "stdout",
     "output_type": "stream",
     "text": [
      "Epoch 15, F1 Score: 0.9911, Accuracy: 0.9911\n"
     ]
    },
    {
     "name": "stderr",
     "output_type": "stream",
     "text": [
      "Epoch [15/20]: 100%|██████████████████████████████████████████| 1153/1153 [58:14<00:00,  3.03s/it, acc=1, loss=0.00326]\n"
     ]
    },
    {
     "name": "stdout",
     "output_type": "stream",
     "text": [
      "Epoch 16, F1 Score: 0.9914, Accuracy: 0.9914\n"
     ]
    },
    {
     "name": "stderr",
     "output_type": "stream",
     "text": [
      "Epoch [16/20]: 100%|██████████████████████████████████████████| 1153/1153 [57:48<00:00,  3.01s/it, acc=1, loss=0.00059]\n"
     ]
    },
    {
     "name": "stdout",
     "output_type": "stream",
     "text": [
      "Epoch 17, F1 Score: 0.9931, Accuracy: 0.9931\n"
     ]
    },
    {
     "name": "stderr",
     "output_type": "stream",
     "text": [
      "Epoch [17/20]: 100%|███████████████████████████████████████████| 1153/1153 [58:27<00:00,  3.04s/it, acc=1, loss=0.0315]\n"
     ]
    },
    {
     "name": "stdout",
     "output_type": "stream",
     "text": [
      "Epoch 18, F1 Score: 0.9920, Accuracy: 0.9920\n"
     ]
    },
    {
     "name": "stderr",
     "output_type": "stream",
     "text": [
      "Epoch [18/20]: 100%|███████████████████████████████████████████| 1153/1153 [58:38<00:00,  3.05s/it, acc=1, loss=0.0169]\n"
     ]
    },
    {
     "name": "stdout",
     "output_type": "stream",
     "text": [
      "Epoch 19, F1 Score: 0.9925, Accuracy: 0.9925\n"
     ]
    },
    {
     "name": "stderr",
     "output_type": "stream",
     "text": [
      "Epoch [19/20]: 100%|███████████████████████████████████████| 1153/1153 [1:02:00<00:00,  3.23s/it, acc=1, loss=0.000172]"
     ]
    },
    {
     "name": "stdout",
     "output_type": "stream",
     "text": [
      "Epoch 20, F1 Score: 0.9935, Accuracy: 0.9935\n"
     ]
    },
    {
     "name": "stderr",
     "output_type": "stream",
     "text": [
      "\n"
     ]
    }
   ],
   "source": [
    "from sklearn.metrics import f1_score\n",
    "import torch\n",
    "import numpy as np\n",
    "from tqdm import tqdm\n",
    "\n",
    "num_epoch = 20\n",
    "\n",
    "def calculate_score(labels, predictions):\n",
    "    # Calculate F1 score and accuracy\n",
    "    f1 = f1_score(labels, predictions, average='weighted')  # Weighted average for multi-class\n",
    "    accuracy = np.mean(labels == predictions)\n",
    "    return f1, accuracy\n",
    "\n",
    "# Assuming criterion = nn.CrossEntropyLoss()\n",
    "model.train()\n",
    "for epoch in range(num_epoch):\n",
    "    train_acc = 0\n",
    "    train_loss = 0\n",
    "    all_labels = []  \n",
    "    all_predictions = []\n",
    "\n",
    "    loop = tqdm(data_loaders['train'])\n",
    "    for idx, (features, labels) in enumerate(loop):\n",
    "        features = features.to(device)\n",
    "        labels = labels.to(device).long()  # Multi-class expects long type\n",
    "\n",
    "        optimizer.zero_grad()\n",
    "        outputs = model(features)  # Model should return raw logits\n",
    "\n",
    "        # Compute loss for multi-class classification\n",
    "        loss = criterion(outputs, labels)\n",
    "        \n",
    "        # Predictions using argmax for multi-class\n",
    "        predictions = torch.argmax(outputs, dim=1)\n",
    "\n",
    "        # Accuracy calculation\n",
    "        correct = (predictions == labels).sum().item()\n",
    "        accuracy = correct / labels.size(0)\n",
    "\n",
    "        all_labels.extend(labels.cpu().numpy())\n",
    "        all_predictions.extend(predictions.cpu().numpy())\n",
    "\n",
    "        loss.backward()\n",
    "        optimizer.step()\n",
    "\n",
    "        # Update loop description with loss and accuracy\n",
    "        loop.set_description(f\"Epoch [{epoch}/{num_epoch}]\")\n",
    "        loop.set_postfix(loss=loss.item(), acc=accuracy)\n",
    "\n",
    "    # Calculate F1 score and accuracy for the epoch\n",
    "    f1, accuracy = calculate_score(np.array(all_labels), np.array(all_predictions))\n",
    "    print(f\"Epoch {epoch + 1}, F1 Score: {f1:.4f}, Accuracy: {accuracy:.4f}\")\n"
   ]
  },
  {
   "cell_type": "code",
   "execution_count": 16,
   "metadata": {},
   "outputs": [
    {
     "name": "stdout",
     "output_type": "stream",
     "text": [
      "Classification Report for Epoch 20:\n",
      "                      precision    recall  f1-score   support\n",
      "\n",
      "    Safe Operations       0.99      0.99      0.99      4046\n",
      "  Unsafe Operations       0.99      0.99      0.99      4972\n",
      "Near-Miss Incidents       1.00      1.00      1.00      2544\n",
      "          Incidents       0.99      0.99      0.99      6882\n",
      "\n",
      "           accuracy                           0.99     18444\n",
      "          macro avg       0.99      0.99      0.99     18444\n",
      "       weighted avg       0.99      0.99      0.99     18444\n",
      "\n"
     ]
    }
   ],
   "source": [
    "# Generate classification report and confusion matrix\n",
    "report = classification_report(all_labels, all_predictions, target_names=class_names)\n",
    "print(f\"Classification Report for Epoch {epoch + 1}:\\n\", report)"
   ]
  },
  {
   "cell_type": "code",
   "execution_count": 14,
   "metadata": {},
   "outputs": [
    {
     "name": "stdout",
     "output_type": "stream",
     "text": [
      "Model saved to dino_model_epoch20.pth\n"
     ]
    }
   ],
   "source": [
    "model_save_path = \"dino_model_epoch20.pth\"\n",
    "torch.save(model, model_save_path)\n",
    "print(f\"Model saved to {model_save_path}\")"
   ]
  },
  {
   "cell_type": "markdown",
   "metadata": {},
   "source": [
    "## Testing model on test dataset"
   ]
  },
  {
   "cell_type": "code",
   "execution_count": 30,
   "metadata": {
    "id": "r9VskZySGBWy"
   },
   "outputs": [
    {
     "name": "stdout",
     "output_type": "stream",
     "text": [
      "started the calculation of testing accuracy\n",
      "F1 Score: 0.9924\n",
      "Accuracy: 99.24 %\n"
     ]
    }
   ],
   "source": [
    "correct = 0\n",
    "total = 0\n",
    "test_prediction = []\n",
    "test_labels = []\n",
    "\n",
    "model.eval()\n",
    "\n",
    "with torch.no_grad():\n",
    "    print(\"started the calculation of testing accuracy\")\n",
    "    for features, test_label in data_loaders[\"test\"]:\n",
    "        test_features = features.to(device)\n",
    "        test_label = test_label.to(device).long() \n",
    "        test_outputs = model(test_features)\n",
    "\n",
    "        # Convert outputs to multi-class predictions using argmax\n",
    "        test_predicted = torch.argmax(test_outputs, dim=1)\n",
    "\n",
    "        # Iterate through the batch to convert predicted indices to class names\n",
    "        for i in range(test_predicted.size(0)):  # Iterate through each prediction\n",
    "            class_label = class_names[test_predicted[i].item()]\n",
    "            # print(f\"Predicted class label: {class_label}\")\n",
    "\n",
    "        # Update total for accuracy calculation\n",
    "        total += test_label.size(0)\n",
    "\n",
    "        # Append the labels and predictions for F1 score and accuracy calculation\n",
    "        test_labels += test_label.cpu().numpy().tolist()\n",
    "        test_prediction += test_predicted.cpu().numpy().tolist()\n",
    "\n",
    "# Calculate F1 score and accuracy for the test dataset\n",
    "f1, accuracy = calculate_score(np.array(test_labels), np.array(test_prediction))\n",
    "print(f'F1 Score: {f1:.4f}')\n",
    "print(f'Accuracy: {accuracy * 100:.2f} %')"
   ]
  },
  {
   "cell_type": "markdown",
   "metadata": {
    "id": "ZjoGcFHFGBWy"
   },
   "source": [
    "## Calssification Report"
   ]
  },
  {
   "cell_type": "code",
   "execution_count": 34,
   "metadata": {
    "id": "7BmQGrREGBWy"
   },
   "outputs": [
    {
     "name": "stdout",
     "output_type": "stream",
     "text": [
      "                     precision    recall  f1-score   support\n",
      "\n",
      "    Safe Operations       1.00      0.99      0.99      1016\n",
      "  Unsafe Operations       0.99      0.99      0.99      1201\n",
      "Near-Miss Incidents       1.00      1.00      1.00       638\n",
      "          Incidents       0.99      0.99      0.99      1756\n",
      "\n",
      "           accuracy                           0.99      4611\n",
      "          macro avg       0.99      0.99      0.99      4611\n",
      "       weighted avg       0.99      0.99      0.99      4611\n",
      "\n"
     ]
    }
   ],
   "source": [
    "print(classification_report(test_labels, test_prediction, target_names=class_names))"
   ]
  },
  {
   "cell_type": "code",
   "execution_count": 31,
   "metadata": {
    "id": "Dp_LMK6ZGBWy"
   },
   "outputs": [
    {
     "data": {
      "text/html": [
       "<div>\n",
       "<style scoped>\n",
       "    .dataframe tbody tr th:only-of-type {\n",
       "        vertical-align: middle;\n",
       "    }\n",
       "\n",
       "    .dataframe tbody tr th {\n",
       "        vertical-align: top;\n",
       "    }\n",
       "\n",
       "    .dataframe thead th {\n",
       "        text-align: right;\n",
       "    }\n",
       "</style>\n",
       "<table border=\"1\" class=\"dataframe\">\n",
       "  <thead>\n",
       "    <tr style=\"text-align: right;\">\n",
       "      <th></th>\n",
       "      <th>Safe Operations</th>\n",
       "      <th>Unsafe Operations</th>\n",
       "      <th>Near-Miss Incidents</th>\n",
       "      <th>Incidents</th>\n",
       "    </tr>\n",
       "  </thead>\n",
       "  <tbody>\n",
       "    <tr>\n",
       "      <th>Safe Operations</th>\n",
       "      <td>1003</td>\n",
       "      <td>5</td>\n",
       "      <td>0</td>\n",
       "      <td>8</td>\n",
       "    </tr>\n",
       "    <tr>\n",
       "      <th>Unsafe Operations</th>\n",
       "      <td>2</td>\n",
       "      <td>1194</td>\n",
       "      <td>3</td>\n",
       "      <td>2</td>\n",
       "    </tr>\n",
       "    <tr>\n",
       "      <th>Near-Miss Incidents</th>\n",
       "      <td>0</td>\n",
       "      <td>0</td>\n",
       "      <td>636</td>\n",
       "      <td>2</td>\n",
       "    </tr>\n",
       "    <tr>\n",
       "      <th>Incidents</th>\n",
       "      <td>0</td>\n",
       "      <td>13</td>\n",
       "      <td>0</td>\n",
       "      <td>1743</td>\n",
       "    </tr>\n",
       "  </tbody>\n",
       "</table>\n",
       "</div>"
      ],
      "text/plain": [
       "                     Safe Operations  Unsafe Operations  Near-Miss Incidents  \\\n",
       "Safe Operations                 1003                  5                    0   \n",
       "Unsafe Operations                  2               1194                    3   \n",
       "Near-Miss Incidents                0                  0                  636   \n",
       "Incidents                          0                 13                    0   \n",
       "\n",
       "                     Incidents  \n",
       "Safe Operations              8  \n",
       "Unsafe Operations            2  \n",
       "Near-Miss Incidents          2  \n",
       "Incidents                 1743  "
      ]
     },
     "execution_count": 31,
     "metadata": {},
     "output_type": "execute_result"
    }
   ],
   "source": [
    "test_cm = confusion_matrix(test_labels, test_prediction)\n",
    "df_test_cm = pd.DataFrame(\n",
    "    test_cm,\n",
    "    index = class_names,\n",
    "    columns = class_names\n",
    ")\n",
    "df_test_cm"
   ]
  },
  {
   "cell_type": "code",
   "execution_count": 40,
   "metadata": {
    "id": "IoyJuFI7GBWy"
   },
   "outputs": [
    {
     "data": {
      "image/png": "[encoded data removed]",
      "text/plain": [
       "<Figure size 1000x700 with 2 Axes>"
      ]
     },
     "metadata": {},
     "output_type": "display_data"
    }
   ],
   "source": [
    "def show_confusion_matrix(confusion_matrix, class_names, title=\"Confusion Matrix\", save_path=\"confusion_matrix.png\"):\n",
    "    # Create a figure with a larger size for clarity\n",
    "    plt.figure(figsize=(10, 7))\n",
    "\n",
    "    # Plot the heatmap\n",
    "    hmap = sns.heatmap(confusion_matrix, annot=True, fmt=\"d\", cmap=\"Blues\", \n",
    "                       xticklabels=class_names, yticklabels=class_names)\n",
    "\n",
    "    # Add title and axis labels\n",
    "    plt.title(title, fontsize=16)\n",
    "    plt.ylabel(\"True Label\", fontsize=14)\n",
    "    plt.xlabel(\"Predicted Label\", fontsize=14)\n",
    "\n",
    "    # Adjust layout to prevent clipping\n",
    "    plt.tight_layout()\n",
    "    # Save the confusion matrix to a file\n",
    "    plt.savefig(save_path, bbox_inches='tight', pad_inches=0.1)  # Save as PNG with tight layout\n",
    "\n",
    "    # Show the plot\n",
    "    plt.show()\n",
    "\n",
    "show_confusion_matrix(df_test_cm, class_names, save_path=\"confusion_matrix_multi-class.png\")"
   ]
  },
  {
   "cell_type": "code",
   "execution_count": null,
   "metadata": {},
   "outputs": [],
   "source": []
  }
 ],
 "metadata": {
  "colab": {
   "provenance": []
  },
  "kaggle": {
   "accelerator": "gpu",
   "dataSources": [
    {
     "datasetId": 3093062,
     "sourceId": 5324005,
     "sourceType": "datasetVersion"
    }
   ],
   "dockerImageVersionId": 30528,
   "isGpuEnabled": true,
   "isInternetEnabled": true,
   "language": "python",
   "sourceType": "notebook"
  },
  "kernelspec": {
   "display_name": "crane",
   "language": "python",
   "name": "crane"
  },
  "language_info": {
   "codemirror_mode": {
    "name": "ipython",
    "version": 3
   },
   "file_extension": ".py",
   "mimetype": "text/x-python",
   "name": "python",
   "nbconvert_exporter": "python",
   "pygments_lexer": "ipython3",
   "version": "3.12.3"
  }
 },
 "nbformat": 4,
 "nbformat_minor": 4
}
